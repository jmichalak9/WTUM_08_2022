{
 "cells": [
  {
   "cell_type": "markdown",
   "id": "a38d09ec",
   "metadata": {},
   "source": [
    "# Przewidywanie zwycięzcy rundy w grze Counter Strike: Global Offensive"
   ]
  },
  {
   "cell_type": "markdown",
   "id": "2e65f53e",
   "metadata": {},
   "source": [
    "# Dane"
   ]
  },
  {
   "cell_type": "markdown",
   "id": "69f39c13",
   "metadata": {},
   "source": [
    "# Czym jest klasyfikator MLP"
   ]
  },
  {
   "cell_type": "markdown",
   "id": "875081a3",
   "metadata": {},
   "source": [
    "# Import bibliotek i danych"
   ]
  },
  {
   "cell_type": "markdown",
   "id": "132c6780",
   "metadata": {},
   "source": [
    "# Przeprocesowanie danych"
   ]
  },
  {
   "cell_type": "code",
   "execution_count": null,
   "id": "71c81a3c",
   "metadata": {},
   "outputs": [],
   "source": []
  }
 ],
 "metadata": {
  "kernelspec": {
   "display_name": "Python 3 (ipykernel)",
   "language": "python",
   "name": "python3"
  },
  "language_info": {
   "codemirror_mode": {
    "name": "ipython",
    "version": 3
   },
   "file_extension": ".py",
   "mimetype": "text/x-python",
   "name": "python",
   "nbconvert_exporter": "python",
   "pygments_lexer": "ipython3",
   "version": "3.10.3"
  }
 },
 "nbformat": 4,
 "nbformat_minor": 5
}
