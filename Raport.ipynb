{
 "cells": [
  {
   "cell_type": "markdown",
   "id": "2c8d1c45",
   "metadata": {},
   "source": [
    "# Przewidywanie zwycięzcy rundy w grze Counter Strike: Global Offensive"
   ]
  },
  {
   "cell_type": "markdown",
   "id": "7ff4bf57",
   "metadata": {},
   "source": [
    "# Dane\n",
    "\n",
    "Zbiór danych składa się ze snapshotów rund z około 700 meczów z profesjonalnych turniejów\n",
    "rozgrywanych w 2019 i 2020 roku. Snapshoty, czyli zestawienie pewnych stanów kluczowych ele-\n",
    "mentów rozgrywki, były rejestrowane podczas gry co 20 sekund aż do rozstrzygnięcia danej rundy.\n",
    "Łączna liczba zapisanych snapshotów wynosi 122411. Część tych rekordów będzie traktowana jako\n",
    "zbiór danych uczących, a pozostała część jako część danych testów. Każdy rekord traktowany jest\n",
    "jako pojedynczy, niezależny element do analizy danych."
   ]
  },
  {
   "cell_type": "markdown",
   "id": "0b481863",
   "metadata": {},
   "source": [
    "# Czym jest klasyfikator MLP\n",
    "\n"
   ]
  },
  {
   "cell_type": "markdown",
   "id": "08280929",
   "metadata": {},
   "source": [
    "# Import bibliotek i danych"
   ]
  },
  {
   "cell_type": "markdown",
   "id": "c5e849d3",
   "metadata": {},
   "source": [
    "# Przeprocesowanie danych"
   ]
  },
  {
   "cell_type": "code",
   "execution_count": null,
   "id": "daf9bbc1",
   "metadata": {},
   "outputs": [],
   "source": []
  }
 ],
 "metadata": {
  "kernelspec": {
   "display_name": "Python 3 (ipykernel)",
   "language": "python",
   "name": "python3"
  },
  "language_info": {
   "codemirror_mode": {
    "name": "ipython",
    "version": 3
   },
   "file_extension": ".py",
   "mimetype": "text/x-python",
   "name": "python",
   "nbconvert_exporter": "python",
   "pygments_lexer": "ipython3",
   "version": "3.10.3"
  }
 },
 "nbformat": 4,
 "nbformat_minor": 5
}
