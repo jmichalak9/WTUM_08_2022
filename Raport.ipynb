{
 "cells": [
  {
   "cell_type": "markdown",
   "id": "f6de0706",
   "metadata": {
    "pycharm": {
     "name": "#%% md\n"
    }
   },
   "source": [
    "# Przewidywanie zwycięzcy rundy w grze Counter Strike: Global Offensive"
   ]
  },
  {
   "cell_type": "markdown",
   "id": "d4d0e291",
   "metadata": {
    "pycharm": {
     "name": "#%% md\n"
    }
   },
   "source": [
    "## Zmiany 21.04\n",
    "- dodano rozdział \"Wybór atrybutów\"\n",
    "- dodano rozdział \"Definicja i inicjalizacja modelu\"\n",
    "\n",
    "## Dane"
   ]
  },
  {
   "cell_type": "markdown",
   "id": "42fd42fd",
   "metadata": {
    "pycharm": {
     "name": "#%% md\n"
    }
   },
   "source": [
    "Zbiór danych składa się ze snapshotów rund z około 700 meczów z profesjonalnych turniejów rozgrywanych w 2019 i 2020 roku.\n",
    "\n",
    "Snapshoty - czyli zestawienie pewnych stanów kluczowych elementów rozgrywki - były rejestrowane podczas gry co 20 sekund aż do rozstrzygnięcia danej rundy. Łączna liczba zapisanych snapshotów wynosi 122411. Część tych rekordów będzie traktowana jako\n",
    "zbiór danych uczących, a pozostała część jako część danych testów. Każdy rekord traktowany jest jako pojedynczy, niezależny element do analizy danych."
   ]
  },
  {
   "cell_type": "markdown",
   "id": "55e96126",
   "metadata": {
    "pycharm": {
     "name": "#%% md\n"
    }
   },
   "source": [
    "## Czym jest klasyfikator MLP?"
   ]
  },
  {
   "cell_type": "markdown",
   "id": "29693ca6",
   "metadata": {
    "pycharm": {
     "name": "#%% md\n"
    }
   },
   "source": [
    "Perceptron wielowarstwowy (MLP) to model sztucznej sieci neuronowej ze sprzężeniem do przodu, który odwzorowuje zestawy danych wejściowych na zestaw odpowiednich danych wyjściowych.\n",
    "\n",
    "MLP składa się z wielu warstw, a każda warstwa jest w pełni połączona z następną. Węzły warstw to neurony z nieliniowymi funkcjami aktywacji, z wyjątkiem węzłów warstwy wejściowej. Pomiędzy warstwą wejściową a wyjściową może znajdować się jedna lub więcej nieliniowych warstw ukrytych."
   ]
  },
  {
   "cell_type": "markdown",
   "id": "39444f00",
   "metadata": {
    "pycharm": {
     "name": "#%% md\n"
    }
   },
   "source": [
    "## Import bibliotek i danych"
   ]
  },
  {
   "cell_type": "code",
   "execution_count": 1,
   "id": "25cc31a9",
   "metadata": {
    "pycharm": {
     "name": "#%%\n"
    },
    "scrolled": true
   },
   "outputs": [],
   "source": [
    "import numpy as np\n",
    "import pandas as pd\n",
    "from sklearn.preprocessing import LabelEncoder\n",
    "from sklearn.preprocessing import RobustScaler\n",
    "from sklearn.model_selection import train_test_split\n",
    "from sklearn.ensemble import RandomForestRegressor\n",
    "from sklearn.neural_network import MLPClassifier\n",
    "from sklearn.linear_model import LogisticRegression\n",
    "from matplotlib import pyplot as plt\n",
    "import seaborn as sns"
   ]
  },
  {
   "cell_type": "code",
   "execution_count": 2,
   "id": "986ec32a",
   "metadata": {
    "pycharm": {
     "name": "#%%\n"
    }
   },
   "outputs": [],
   "source": [
    "df = pd.read_csv('Data/csgo_round_snapshots.csv')"
   ]
  },
  {
   "cell_type": "code",
   "execution_count": 3,
   "id": "7d3dbdb3",
   "metadata": {
    "pycharm": {
     "name": "#%%\n"
    }
   },
   "outputs": [],
   "source": [
    "pd.set_option('display.max_columns', None)\n",
    "pd.set_option('display.max_rows', None)"
   ]
  },
  {
   "cell_type": "code",
   "execution_count": 4,
   "id": "235753f0",
   "metadata": {
    "pycharm": {
     "name": "#%%\n"
    }
   },
   "outputs": [
    {
     "data": {
      "text/html": [
       "<div>\n",
       "<style scoped>\n",
       "    .dataframe tbody tr th:only-of-type {\n",
       "        vertical-align: middle;\n",
       "    }\n",
       "\n",
       "    .dataframe tbody tr th {\n",
       "        vertical-align: top;\n",
       "    }\n",
       "\n",
       "    .dataframe thead th {\n",
       "        text-align: right;\n",
       "    }\n",
       "</style>\n",
       "<table border=\"1\" class=\"dataframe\">\n",
       "  <thead>\n",
       "    <tr style=\"text-align: right;\">\n",
       "      <th></th>\n",
       "      <th>time_left</th>\n",
       "      <th>ct_score</th>\n",
       "      <th>t_score</th>\n",
       "      <th>map</th>\n",
       "      <th>bomb_planted</th>\n",
       "      <th>ct_health</th>\n",
       "      <th>t_health</th>\n",
       "      <th>ct_armor</th>\n",
       "      <th>t_armor</th>\n",
       "      <th>ct_money</th>\n",
       "      <th>t_money</th>\n",
       "      <th>ct_helmets</th>\n",
       "      <th>t_helmets</th>\n",
       "      <th>ct_defuse_kits</th>\n",
       "      <th>ct_players_alive</th>\n",
       "      <th>t_players_alive</th>\n",
       "      <th>ct_weapon_ak47</th>\n",
       "      <th>t_weapon_ak47</th>\n",
       "      <th>ct_weapon_aug</th>\n",
       "      <th>t_weapon_aug</th>\n",
       "      <th>ct_weapon_awp</th>\n",
       "      <th>t_weapon_awp</th>\n",
       "      <th>ct_weapon_bizon</th>\n",
       "      <th>t_weapon_bizon</th>\n",
       "      <th>ct_weapon_cz75auto</th>\n",
       "      <th>t_weapon_cz75auto</th>\n",
       "      <th>ct_weapon_elite</th>\n",
       "      <th>t_weapon_elite</th>\n",
       "      <th>ct_weapon_famas</th>\n",
       "      <th>t_weapon_famas</th>\n",
       "      <th>ct_weapon_g3sg1</th>\n",
       "      <th>t_weapon_g3sg1</th>\n",
       "      <th>ct_weapon_galilar</th>\n",
       "      <th>t_weapon_galilar</th>\n",
       "      <th>ct_weapon_glock</th>\n",
       "      <th>t_weapon_glock</th>\n",
       "      <th>ct_weapon_m249</th>\n",
       "      <th>t_weapon_m249</th>\n",
       "      <th>ct_weapon_m4a1s</th>\n",
       "      <th>t_weapon_m4a1s</th>\n",
       "      <th>ct_weapon_m4a4</th>\n",
       "      <th>t_weapon_m4a4</th>\n",
       "      <th>ct_weapon_mac10</th>\n",
       "      <th>t_weapon_mac10</th>\n",
       "      <th>ct_weapon_mag7</th>\n",
       "      <th>t_weapon_mag7</th>\n",
       "      <th>ct_weapon_mp5sd</th>\n",
       "      <th>t_weapon_mp5sd</th>\n",
       "      <th>ct_weapon_mp7</th>\n",
       "      <th>t_weapon_mp7</th>\n",
       "      <th>ct_weapon_mp9</th>\n",
       "      <th>t_weapon_mp9</th>\n",
       "      <th>ct_weapon_negev</th>\n",
       "      <th>t_weapon_negev</th>\n",
       "      <th>ct_weapon_nova</th>\n",
       "      <th>t_weapon_nova</th>\n",
       "      <th>ct_weapon_p90</th>\n",
       "      <th>t_weapon_p90</th>\n",
       "      <th>ct_weapon_r8revolver</th>\n",
       "      <th>t_weapon_r8revolver</th>\n",
       "      <th>ct_weapon_sawedoff</th>\n",
       "      <th>t_weapon_sawedoff</th>\n",
       "      <th>ct_weapon_scar20</th>\n",
       "      <th>t_weapon_scar20</th>\n",
       "      <th>ct_weapon_sg553</th>\n",
       "      <th>t_weapon_sg553</th>\n",
       "      <th>ct_weapon_ssg08</th>\n",
       "      <th>t_weapon_ssg08</th>\n",
       "      <th>ct_weapon_ump45</th>\n",
       "      <th>t_weapon_ump45</th>\n",
       "      <th>ct_weapon_xm1014</th>\n",
       "      <th>t_weapon_xm1014</th>\n",
       "      <th>ct_weapon_deagle</th>\n",
       "      <th>t_weapon_deagle</th>\n",
       "      <th>ct_weapon_fiveseven</th>\n",
       "      <th>t_weapon_fiveseven</th>\n",
       "      <th>ct_weapon_usps</th>\n",
       "      <th>t_weapon_usps</th>\n",
       "      <th>ct_weapon_p250</th>\n",
       "      <th>t_weapon_p250</th>\n",
       "      <th>ct_weapon_p2000</th>\n",
       "      <th>t_weapon_p2000</th>\n",
       "      <th>ct_weapon_tec9</th>\n",
       "      <th>t_weapon_tec9</th>\n",
       "      <th>ct_grenade_hegrenade</th>\n",
       "      <th>t_grenade_hegrenade</th>\n",
       "      <th>ct_grenade_flashbang</th>\n",
       "      <th>t_grenade_flashbang</th>\n",
       "      <th>ct_grenade_smokegrenade</th>\n",
       "      <th>t_grenade_smokegrenade</th>\n",
       "      <th>ct_grenade_incendiarygrenade</th>\n",
       "      <th>t_grenade_incendiarygrenade</th>\n",
       "      <th>ct_grenade_molotovgrenade</th>\n",
       "      <th>t_grenade_molotovgrenade</th>\n",
       "      <th>ct_grenade_decoygrenade</th>\n",
       "      <th>t_grenade_decoygrenade</th>\n",
       "      <th>round_winner</th>\n",
       "    </tr>\n",
       "  </thead>\n",
       "  <tbody>\n",
       "    <tr>\n",
       "      <th>0</th>\n",
       "      <td>175.00</td>\n",
       "      <td>0.0</td>\n",
       "      <td>0.0</td>\n",
       "      <td>de_dust2</td>\n",
       "      <td>False</td>\n",
       "      <td>500.0</td>\n",
       "      <td>500.0</td>\n",
       "      <td>0.0</td>\n",
       "      <td>0.0</td>\n",
       "      <td>4000.0</td>\n",
       "      <td>4000.0</td>\n",
       "      <td>0.0</td>\n",
       "      <td>0.0</td>\n",
       "      <td>0.0</td>\n",
       "      <td>5.0</td>\n",
       "      <td>5.0</td>\n",
       "      <td>0.0</td>\n",
       "      <td>0.0</td>\n",
       "      <td>0.0</td>\n",
       "      <td>0.0</td>\n",
       "      <td>0.0</td>\n",
       "      <td>0.0</td>\n",
       "      <td>0.0</td>\n",
       "      <td>0.0</td>\n",
       "      <td>0.0</td>\n",
       "      <td>0.0</td>\n",
       "      <td>0.0</td>\n",
       "      <td>0.0</td>\n",
       "      <td>0.0</td>\n",
       "      <td>0.0</td>\n",
       "      <td>0.0</td>\n",
       "      <td>0.0</td>\n",
       "      <td>0.0</td>\n",
       "      <td>0.0</td>\n",
       "      <td>0.0</td>\n",
       "      <td>5.0</td>\n",
       "      <td>0.0</td>\n",
       "      <td>0.0</td>\n",
       "      <td>0.0</td>\n",
       "      <td>0.0</td>\n",
       "      <td>0.0</td>\n",
       "      <td>0.0</td>\n",
       "      <td>0.0</td>\n",
       "      <td>0.0</td>\n",
       "      <td>0.0</td>\n",
       "      <td>0.0</td>\n",
       "      <td>0.0</td>\n",
       "      <td>0.0</td>\n",
       "      <td>0.0</td>\n",
       "      <td>0.0</td>\n",
       "      <td>0.0</td>\n",
       "      <td>0.0</td>\n",
       "      <td>0.0</td>\n",
       "      <td>0.0</td>\n",
       "      <td>0.0</td>\n",
       "      <td>0.0</td>\n",
       "      <td>0.0</td>\n",
       "      <td>0.0</td>\n",
       "      <td>0.0</td>\n",
       "      <td>0.0</td>\n",
       "      <td>0.0</td>\n",
       "      <td>0.0</td>\n",
       "      <td>0.0</td>\n",
       "      <td>0.0</td>\n",
       "      <td>0.0</td>\n",
       "      <td>0.0</td>\n",
       "      <td>0.0</td>\n",
       "      <td>0.0</td>\n",
       "      <td>0.0</td>\n",
       "      <td>0.0</td>\n",
       "      <td>0.0</td>\n",
       "      <td>0.0</td>\n",
       "      <td>0.0</td>\n",
       "      <td>0.0</td>\n",
       "      <td>0.0</td>\n",
       "      <td>0.0</td>\n",
       "      <td>4.0</td>\n",
       "      <td>0.0</td>\n",
       "      <td>0.0</td>\n",
       "      <td>0.0</td>\n",
       "      <td>1.0</td>\n",
       "      <td>0.0</td>\n",
       "      <td>0.0</td>\n",
       "      <td>0.0</td>\n",
       "      <td>0.0</td>\n",
       "      <td>0.0</td>\n",
       "      <td>0.0</td>\n",
       "      <td>0.0</td>\n",
       "      <td>0.0</td>\n",
       "      <td>0.0</td>\n",
       "      <td>0.0</td>\n",
       "      <td>0.0</td>\n",
       "      <td>0.0</td>\n",
       "      <td>0.0</td>\n",
       "      <td>0.0</td>\n",
       "      <td>0.0</td>\n",
       "      <td>CT</td>\n",
       "    </tr>\n",
       "    <tr>\n",
       "      <th>1</th>\n",
       "      <td>156.03</td>\n",
       "      <td>0.0</td>\n",
       "      <td>0.0</td>\n",
       "      <td>de_dust2</td>\n",
       "      <td>False</td>\n",
       "      <td>500.0</td>\n",
       "      <td>500.0</td>\n",
       "      <td>400.0</td>\n",
       "      <td>300.0</td>\n",
       "      <td>600.0</td>\n",
       "      <td>650.0</td>\n",
       "      <td>0.0</td>\n",
       "      <td>0.0</td>\n",
       "      <td>1.0</td>\n",
       "      <td>5.0</td>\n",
       "      <td>5.0</td>\n",
       "      <td>0.0</td>\n",
       "      <td>0.0</td>\n",
       "      <td>0.0</td>\n",
       "      <td>0.0</td>\n",
       "      <td>0.0</td>\n",
       "      <td>0.0</td>\n",
       "      <td>0.0</td>\n",
       "      <td>0.0</td>\n",
       "      <td>0.0</td>\n",
       "      <td>0.0</td>\n",
       "      <td>0.0</td>\n",
       "      <td>0.0</td>\n",
       "      <td>0.0</td>\n",
       "      <td>0.0</td>\n",
       "      <td>0.0</td>\n",
       "      <td>0.0</td>\n",
       "      <td>0.0</td>\n",
       "      <td>0.0</td>\n",
       "      <td>0.0</td>\n",
       "      <td>5.0</td>\n",
       "      <td>0.0</td>\n",
       "      <td>0.0</td>\n",
       "      <td>0.0</td>\n",
       "      <td>0.0</td>\n",
       "      <td>0.0</td>\n",
       "      <td>0.0</td>\n",
       "      <td>0.0</td>\n",
       "      <td>0.0</td>\n",
       "      <td>0.0</td>\n",
       "      <td>0.0</td>\n",
       "      <td>0.0</td>\n",
       "      <td>0.0</td>\n",
       "      <td>0.0</td>\n",
       "      <td>0.0</td>\n",
       "      <td>0.0</td>\n",
       "      <td>0.0</td>\n",
       "      <td>0.0</td>\n",
       "      <td>0.0</td>\n",
       "      <td>0.0</td>\n",
       "      <td>0.0</td>\n",
       "      <td>0.0</td>\n",
       "      <td>0.0</td>\n",
       "      <td>0.0</td>\n",
       "      <td>0.0</td>\n",
       "      <td>0.0</td>\n",
       "      <td>0.0</td>\n",
       "      <td>0.0</td>\n",
       "      <td>0.0</td>\n",
       "      <td>0.0</td>\n",
       "      <td>0.0</td>\n",
       "      <td>0.0</td>\n",
       "      <td>0.0</td>\n",
       "      <td>0.0</td>\n",
       "      <td>0.0</td>\n",
       "      <td>0.0</td>\n",
       "      <td>0.0</td>\n",
       "      <td>0.0</td>\n",
       "      <td>0.0</td>\n",
       "      <td>0.0</td>\n",
       "      <td>0.0</td>\n",
       "      <td>4.0</td>\n",
       "      <td>0.0</td>\n",
       "      <td>0.0</td>\n",
       "      <td>0.0</td>\n",
       "      <td>1.0</td>\n",
       "      <td>0.0</td>\n",
       "      <td>0.0</td>\n",
       "      <td>0.0</td>\n",
       "      <td>0.0</td>\n",
       "      <td>0.0</td>\n",
       "      <td>0.0</td>\n",
       "      <td>0.0</td>\n",
       "      <td>0.0</td>\n",
       "      <td>2.0</td>\n",
       "      <td>0.0</td>\n",
       "      <td>0.0</td>\n",
       "      <td>0.0</td>\n",
       "      <td>0.0</td>\n",
       "      <td>0.0</td>\n",
       "      <td>0.0</td>\n",
       "      <td>CT</td>\n",
       "    </tr>\n",
       "    <tr>\n",
       "      <th>2</th>\n",
       "      <td>96.03</td>\n",
       "      <td>0.0</td>\n",
       "      <td>0.0</td>\n",
       "      <td>de_dust2</td>\n",
       "      <td>False</td>\n",
       "      <td>391.0</td>\n",
       "      <td>400.0</td>\n",
       "      <td>294.0</td>\n",
       "      <td>200.0</td>\n",
       "      <td>750.0</td>\n",
       "      <td>500.0</td>\n",
       "      <td>0.0</td>\n",
       "      <td>0.0</td>\n",
       "      <td>1.0</td>\n",
       "      <td>4.0</td>\n",
       "      <td>4.0</td>\n",
       "      <td>0.0</td>\n",
       "      <td>0.0</td>\n",
       "      <td>0.0</td>\n",
       "      <td>0.0</td>\n",
       "      <td>0.0</td>\n",
       "      <td>0.0</td>\n",
       "      <td>0.0</td>\n",
       "      <td>0.0</td>\n",
       "      <td>0.0</td>\n",
       "      <td>0.0</td>\n",
       "      <td>0.0</td>\n",
       "      <td>0.0</td>\n",
       "      <td>0.0</td>\n",
       "      <td>0.0</td>\n",
       "      <td>0.0</td>\n",
       "      <td>0.0</td>\n",
       "      <td>0.0</td>\n",
       "      <td>0.0</td>\n",
       "      <td>0.0</td>\n",
       "      <td>4.0</td>\n",
       "      <td>0.0</td>\n",
       "      <td>0.0</td>\n",
       "      <td>0.0</td>\n",
       "      <td>0.0</td>\n",
       "      <td>0.0</td>\n",
       "      <td>0.0</td>\n",
       "      <td>0.0</td>\n",
       "      <td>0.0</td>\n",
       "      <td>0.0</td>\n",
       "      <td>0.0</td>\n",
       "      <td>0.0</td>\n",
       "      <td>0.0</td>\n",
       "      <td>0.0</td>\n",
       "      <td>0.0</td>\n",
       "      <td>0.0</td>\n",
       "      <td>0.0</td>\n",
       "      <td>0.0</td>\n",
       "      <td>0.0</td>\n",
       "      <td>0.0</td>\n",
       "      <td>0.0</td>\n",
       "      <td>0.0</td>\n",
       "      <td>0.0</td>\n",
       "      <td>0.0</td>\n",
       "      <td>0.0</td>\n",
       "      <td>0.0</td>\n",
       "      <td>0.0</td>\n",
       "      <td>0.0</td>\n",
       "      <td>0.0</td>\n",
       "      <td>0.0</td>\n",
       "      <td>0.0</td>\n",
       "      <td>0.0</td>\n",
       "      <td>0.0</td>\n",
       "      <td>0.0</td>\n",
       "      <td>0.0</td>\n",
       "      <td>0.0</td>\n",
       "      <td>0.0</td>\n",
       "      <td>0.0</td>\n",
       "      <td>0.0</td>\n",
       "      <td>0.0</td>\n",
       "      <td>0.0</td>\n",
       "      <td>4.0</td>\n",
       "      <td>0.0</td>\n",
       "      <td>0.0</td>\n",
       "      <td>0.0</td>\n",
       "      <td>0.0</td>\n",
       "      <td>0.0</td>\n",
       "      <td>0.0</td>\n",
       "      <td>0.0</td>\n",
       "      <td>0.0</td>\n",
       "      <td>0.0</td>\n",
       "      <td>0.0</td>\n",
       "      <td>0.0</td>\n",
       "      <td>0.0</td>\n",
       "      <td>2.0</td>\n",
       "      <td>0.0</td>\n",
       "      <td>0.0</td>\n",
       "      <td>0.0</td>\n",
       "      <td>0.0</td>\n",
       "      <td>0.0</td>\n",
       "      <td>0.0</td>\n",
       "      <td>CT</td>\n",
       "    </tr>\n",
       "    <tr>\n",
       "      <th>3</th>\n",
       "      <td>76.03</td>\n",
       "      <td>0.0</td>\n",
       "      <td>0.0</td>\n",
       "      <td>de_dust2</td>\n",
       "      <td>False</td>\n",
       "      <td>391.0</td>\n",
       "      <td>400.0</td>\n",
       "      <td>294.0</td>\n",
       "      <td>200.0</td>\n",
       "      <td>750.0</td>\n",
       "      <td>500.0</td>\n",
       "      <td>0.0</td>\n",
       "      <td>0.0</td>\n",
       "      <td>1.0</td>\n",
       "      <td>4.0</td>\n",
       "      <td>4.0</td>\n",
       "      <td>0.0</td>\n",
       "      <td>0.0</td>\n",
       "      <td>0.0</td>\n",
       "      <td>0.0</td>\n",
       "      <td>0.0</td>\n",
       "      <td>0.0</td>\n",
       "      <td>0.0</td>\n",
       "      <td>0.0</td>\n",
       "      <td>0.0</td>\n",
       "      <td>0.0</td>\n",
       "      <td>0.0</td>\n",
       "      <td>0.0</td>\n",
       "      <td>0.0</td>\n",
       "      <td>0.0</td>\n",
       "      <td>0.0</td>\n",
       "      <td>0.0</td>\n",
       "      <td>0.0</td>\n",
       "      <td>0.0</td>\n",
       "      <td>0.0</td>\n",
       "      <td>3.0</td>\n",
       "      <td>0.0</td>\n",
       "      <td>0.0</td>\n",
       "      <td>0.0</td>\n",
       "      <td>0.0</td>\n",
       "      <td>0.0</td>\n",
       "      <td>0.0</td>\n",
       "      <td>0.0</td>\n",
       "      <td>0.0</td>\n",
       "      <td>0.0</td>\n",
       "      <td>0.0</td>\n",
       "      <td>0.0</td>\n",
       "      <td>0.0</td>\n",
       "      <td>0.0</td>\n",
       "      <td>0.0</td>\n",
       "      <td>0.0</td>\n",
       "      <td>0.0</td>\n",
       "      <td>0.0</td>\n",
       "      <td>0.0</td>\n",
       "      <td>0.0</td>\n",
       "      <td>0.0</td>\n",
       "      <td>0.0</td>\n",
       "      <td>0.0</td>\n",
       "      <td>0.0</td>\n",
       "      <td>0.0</td>\n",
       "      <td>0.0</td>\n",
       "      <td>0.0</td>\n",
       "      <td>0.0</td>\n",
       "      <td>0.0</td>\n",
       "      <td>0.0</td>\n",
       "      <td>0.0</td>\n",
       "      <td>0.0</td>\n",
       "      <td>0.0</td>\n",
       "      <td>0.0</td>\n",
       "      <td>0.0</td>\n",
       "      <td>0.0</td>\n",
       "      <td>0.0</td>\n",
       "      <td>0.0</td>\n",
       "      <td>0.0</td>\n",
       "      <td>0.0</td>\n",
       "      <td>0.0</td>\n",
       "      <td>4.0</td>\n",
       "      <td>0.0</td>\n",
       "      <td>0.0</td>\n",
       "      <td>0.0</td>\n",
       "      <td>0.0</td>\n",
       "      <td>1.0</td>\n",
       "      <td>0.0</td>\n",
       "      <td>0.0</td>\n",
       "      <td>0.0</td>\n",
       "      <td>0.0</td>\n",
       "      <td>0.0</td>\n",
       "      <td>0.0</td>\n",
       "      <td>0.0</td>\n",
       "      <td>0.0</td>\n",
       "      <td>0.0</td>\n",
       "      <td>0.0</td>\n",
       "      <td>0.0</td>\n",
       "      <td>0.0</td>\n",
       "      <td>0.0</td>\n",
       "      <td>0.0</td>\n",
       "      <td>CT</td>\n",
       "    </tr>\n",
       "    <tr>\n",
       "      <th>4</th>\n",
       "      <td>174.97</td>\n",
       "      <td>1.0</td>\n",
       "      <td>0.0</td>\n",
       "      <td>de_dust2</td>\n",
       "      <td>False</td>\n",
       "      <td>500.0</td>\n",
       "      <td>500.0</td>\n",
       "      <td>192.0</td>\n",
       "      <td>0.0</td>\n",
       "      <td>18350.0</td>\n",
       "      <td>10750.0</td>\n",
       "      <td>0.0</td>\n",
       "      <td>0.0</td>\n",
       "      <td>1.0</td>\n",
       "      <td>5.0</td>\n",
       "      <td>5.0</td>\n",
       "      <td>0.0</td>\n",
       "      <td>0.0</td>\n",
       "      <td>0.0</td>\n",
       "      <td>0.0</td>\n",
       "      <td>0.0</td>\n",
       "      <td>0.0</td>\n",
       "      <td>0.0</td>\n",
       "      <td>0.0</td>\n",
       "      <td>0.0</td>\n",
       "      <td>0.0</td>\n",
       "      <td>0.0</td>\n",
       "      <td>0.0</td>\n",
       "      <td>0.0</td>\n",
       "      <td>0.0</td>\n",
       "      <td>0.0</td>\n",
       "      <td>0.0</td>\n",
       "      <td>0.0</td>\n",
       "      <td>0.0</td>\n",
       "      <td>0.0</td>\n",
       "      <td>5.0</td>\n",
       "      <td>0.0</td>\n",
       "      <td>0.0</td>\n",
       "      <td>0.0</td>\n",
       "      <td>0.0</td>\n",
       "      <td>0.0</td>\n",
       "      <td>0.0</td>\n",
       "      <td>0.0</td>\n",
       "      <td>0.0</td>\n",
       "      <td>0.0</td>\n",
       "      <td>0.0</td>\n",
       "      <td>0.0</td>\n",
       "      <td>0.0</td>\n",
       "      <td>0.0</td>\n",
       "      <td>0.0</td>\n",
       "      <td>0.0</td>\n",
       "      <td>0.0</td>\n",
       "      <td>0.0</td>\n",
       "      <td>0.0</td>\n",
       "      <td>0.0</td>\n",
       "      <td>0.0</td>\n",
       "      <td>0.0</td>\n",
       "      <td>0.0</td>\n",
       "      <td>0.0</td>\n",
       "      <td>0.0</td>\n",
       "      <td>0.0</td>\n",
       "      <td>0.0</td>\n",
       "      <td>0.0</td>\n",
       "      <td>0.0</td>\n",
       "      <td>0.0</td>\n",
       "      <td>0.0</td>\n",
       "      <td>0.0</td>\n",
       "      <td>0.0</td>\n",
       "      <td>0.0</td>\n",
       "      <td>0.0</td>\n",
       "      <td>0.0</td>\n",
       "      <td>0.0</td>\n",
       "      <td>0.0</td>\n",
       "      <td>0.0</td>\n",
       "      <td>0.0</td>\n",
       "      <td>0.0</td>\n",
       "      <td>4.0</td>\n",
       "      <td>0.0</td>\n",
       "      <td>0.0</td>\n",
       "      <td>0.0</td>\n",
       "      <td>1.0</td>\n",
       "      <td>0.0</td>\n",
       "      <td>0.0</td>\n",
       "      <td>0.0</td>\n",
       "      <td>0.0</td>\n",
       "      <td>0.0</td>\n",
       "      <td>0.0</td>\n",
       "      <td>0.0</td>\n",
       "      <td>0.0</td>\n",
       "      <td>0.0</td>\n",
       "      <td>0.0</td>\n",
       "      <td>0.0</td>\n",
       "      <td>0.0</td>\n",
       "      <td>0.0</td>\n",
       "      <td>0.0</td>\n",
       "      <td>0.0</td>\n",
       "      <td>CT</td>\n",
       "    </tr>\n",
       "  </tbody>\n",
       "</table>\n",
       "</div>"
      ],
      "text/plain": [
       "   time_left  ct_score  t_score       map  bomb_planted  ct_health  t_health  \\\n",
       "0     175.00       0.0      0.0  de_dust2         False      500.0     500.0   \n",
       "1     156.03       0.0      0.0  de_dust2         False      500.0     500.0   \n",
       "2      96.03       0.0      0.0  de_dust2         False      391.0     400.0   \n",
       "3      76.03       0.0      0.0  de_dust2         False      391.0     400.0   \n",
       "4     174.97       1.0      0.0  de_dust2         False      500.0     500.0   \n",
       "\n",
       "   ct_armor  t_armor  ct_money  t_money  ct_helmets  t_helmets  \\\n",
       "0       0.0      0.0    4000.0   4000.0         0.0        0.0   \n",
       "1     400.0    300.0     600.0    650.0         0.0        0.0   \n",
       "2     294.0    200.0     750.0    500.0         0.0        0.0   \n",
       "3     294.0    200.0     750.0    500.0         0.0        0.0   \n",
       "4     192.0      0.0   18350.0  10750.0         0.0        0.0   \n",
       "\n",
       "   ct_defuse_kits  ct_players_alive  t_players_alive  ct_weapon_ak47  \\\n",
       "0             0.0               5.0              5.0             0.0   \n",
       "1             1.0               5.0              5.0             0.0   \n",
       "2             1.0               4.0              4.0             0.0   \n",
       "3             1.0               4.0              4.0             0.0   \n",
       "4             1.0               5.0              5.0             0.0   \n",
       "\n",
       "   t_weapon_ak47  ct_weapon_aug  t_weapon_aug  ct_weapon_awp  t_weapon_awp  \\\n",
       "0            0.0            0.0           0.0            0.0           0.0   \n",
       "1            0.0            0.0           0.0            0.0           0.0   \n",
       "2            0.0            0.0           0.0            0.0           0.0   \n",
       "3            0.0            0.0           0.0            0.0           0.0   \n",
       "4            0.0            0.0           0.0            0.0           0.0   \n",
       "\n",
       "   ct_weapon_bizon  t_weapon_bizon  ct_weapon_cz75auto  t_weapon_cz75auto  \\\n",
       "0              0.0             0.0                 0.0                0.0   \n",
       "1              0.0             0.0                 0.0                0.0   \n",
       "2              0.0             0.0                 0.0                0.0   \n",
       "3              0.0             0.0                 0.0                0.0   \n",
       "4              0.0             0.0                 0.0                0.0   \n",
       "\n",
       "   ct_weapon_elite  t_weapon_elite  ct_weapon_famas  t_weapon_famas  \\\n",
       "0              0.0             0.0              0.0             0.0   \n",
       "1              0.0             0.0              0.0             0.0   \n",
       "2              0.0             0.0              0.0             0.0   \n",
       "3              0.0             0.0              0.0             0.0   \n",
       "4              0.0             0.0              0.0             0.0   \n",
       "\n",
       "   ct_weapon_g3sg1  t_weapon_g3sg1  ct_weapon_galilar  t_weapon_galilar  \\\n",
       "0              0.0             0.0                0.0               0.0   \n",
       "1              0.0             0.0                0.0               0.0   \n",
       "2              0.0             0.0                0.0               0.0   \n",
       "3              0.0             0.0                0.0               0.0   \n",
       "4              0.0             0.0                0.0               0.0   \n",
       "\n",
       "   ct_weapon_glock  t_weapon_glock  ct_weapon_m249  t_weapon_m249  \\\n",
       "0              0.0             5.0             0.0            0.0   \n",
       "1              0.0             5.0             0.0            0.0   \n",
       "2              0.0             4.0             0.0            0.0   \n",
       "3              0.0             3.0             0.0            0.0   \n",
       "4              0.0             5.0             0.0            0.0   \n",
       "\n",
       "   ct_weapon_m4a1s  t_weapon_m4a1s  ct_weapon_m4a4  t_weapon_m4a4  \\\n",
       "0              0.0             0.0             0.0            0.0   \n",
       "1              0.0             0.0             0.0            0.0   \n",
       "2              0.0             0.0             0.0            0.0   \n",
       "3              0.0             0.0             0.0            0.0   \n",
       "4              0.0             0.0             0.0            0.0   \n",
       "\n",
       "   ct_weapon_mac10  t_weapon_mac10  ct_weapon_mag7  t_weapon_mag7  \\\n",
       "0              0.0             0.0             0.0            0.0   \n",
       "1              0.0             0.0             0.0            0.0   \n",
       "2              0.0             0.0             0.0            0.0   \n",
       "3              0.0             0.0             0.0            0.0   \n",
       "4              0.0             0.0             0.0            0.0   \n",
       "\n",
       "   ct_weapon_mp5sd  t_weapon_mp5sd  ct_weapon_mp7  t_weapon_mp7  \\\n",
       "0              0.0             0.0            0.0           0.0   \n",
       "1              0.0             0.0            0.0           0.0   \n",
       "2              0.0             0.0            0.0           0.0   \n",
       "3              0.0             0.0            0.0           0.0   \n",
       "4              0.0             0.0            0.0           0.0   \n",
       "\n",
       "   ct_weapon_mp9  t_weapon_mp9  ct_weapon_negev  t_weapon_negev  \\\n",
       "0            0.0           0.0              0.0             0.0   \n",
       "1            0.0           0.0              0.0             0.0   \n",
       "2            0.0           0.0              0.0             0.0   \n",
       "3            0.0           0.0              0.0             0.0   \n",
       "4            0.0           0.0              0.0             0.0   \n",
       "\n",
       "   ct_weapon_nova  t_weapon_nova  ct_weapon_p90  t_weapon_p90  \\\n",
       "0             0.0            0.0            0.0           0.0   \n",
       "1             0.0            0.0            0.0           0.0   \n",
       "2             0.0            0.0            0.0           0.0   \n",
       "3             0.0            0.0            0.0           0.0   \n",
       "4             0.0            0.0            0.0           0.0   \n",
       "\n",
       "   ct_weapon_r8revolver  t_weapon_r8revolver  ct_weapon_sawedoff  \\\n",
       "0                   0.0                  0.0                 0.0   \n",
       "1                   0.0                  0.0                 0.0   \n",
       "2                   0.0                  0.0                 0.0   \n",
       "3                   0.0                  0.0                 0.0   \n",
       "4                   0.0                  0.0                 0.0   \n",
       "\n",
       "   t_weapon_sawedoff  ct_weapon_scar20  t_weapon_scar20  ct_weapon_sg553  \\\n",
       "0                0.0               0.0              0.0              0.0   \n",
       "1                0.0               0.0              0.0              0.0   \n",
       "2                0.0               0.0              0.0              0.0   \n",
       "3                0.0               0.0              0.0              0.0   \n",
       "4                0.0               0.0              0.0              0.0   \n",
       "\n",
       "   t_weapon_sg553  ct_weapon_ssg08  t_weapon_ssg08  ct_weapon_ump45  \\\n",
       "0             0.0              0.0             0.0              0.0   \n",
       "1             0.0              0.0             0.0              0.0   \n",
       "2             0.0              0.0             0.0              0.0   \n",
       "3             0.0              0.0             0.0              0.0   \n",
       "4             0.0              0.0             0.0              0.0   \n",
       "\n",
       "   t_weapon_ump45  ct_weapon_xm1014  t_weapon_xm1014  ct_weapon_deagle  \\\n",
       "0             0.0               0.0              0.0               0.0   \n",
       "1             0.0               0.0              0.0               0.0   \n",
       "2             0.0               0.0              0.0               0.0   \n",
       "3             0.0               0.0              0.0               0.0   \n",
       "4             0.0               0.0              0.0               0.0   \n",
       "\n",
       "   t_weapon_deagle  ct_weapon_fiveseven  t_weapon_fiveseven  ct_weapon_usps  \\\n",
       "0              0.0                  0.0                 0.0             4.0   \n",
       "1              0.0                  0.0                 0.0             4.0   \n",
       "2              0.0                  0.0                 0.0             4.0   \n",
       "3              0.0                  0.0                 0.0             4.0   \n",
       "4              0.0                  0.0                 0.0             4.0   \n",
       "\n",
       "   t_weapon_usps  ct_weapon_p250  t_weapon_p250  ct_weapon_p2000  \\\n",
       "0            0.0             0.0            0.0              1.0   \n",
       "1            0.0             0.0            0.0              1.0   \n",
       "2            0.0             0.0            0.0              0.0   \n",
       "3            0.0             0.0            0.0              0.0   \n",
       "4            0.0             0.0            0.0              1.0   \n",
       "\n",
       "   t_weapon_p2000  ct_weapon_tec9  t_weapon_tec9  ct_grenade_hegrenade  \\\n",
       "0             0.0             0.0            0.0                   0.0   \n",
       "1             0.0             0.0            0.0                   0.0   \n",
       "2             0.0             0.0            0.0                   0.0   \n",
       "3             1.0             0.0            0.0                   0.0   \n",
       "4             0.0             0.0            0.0                   0.0   \n",
       "\n",
       "   t_grenade_hegrenade  ct_grenade_flashbang  t_grenade_flashbang  \\\n",
       "0                  0.0                   0.0                  0.0   \n",
       "1                  0.0                   0.0                  0.0   \n",
       "2                  0.0                   0.0                  0.0   \n",
       "3                  0.0                   0.0                  0.0   \n",
       "4                  0.0                   0.0                  0.0   \n",
       "\n",
       "   ct_grenade_smokegrenade  t_grenade_smokegrenade  \\\n",
       "0                      0.0                     0.0   \n",
       "1                      0.0                     2.0   \n",
       "2                      0.0                     2.0   \n",
       "3                      0.0                     0.0   \n",
       "4                      0.0                     0.0   \n",
       "\n",
       "   ct_grenade_incendiarygrenade  t_grenade_incendiarygrenade  \\\n",
       "0                           0.0                          0.0   \n",
       "1                           0.0                          0.0   \n",
       "2                           0.0                          0.0   \n",
       "3                           0.0                          0.0   \n",
       "4                           0.0                          0.0   \n",
       "\n",
       "   ct_grenade_molotovgrenade  t_grenade_molotovgrenade  \\\n",
       "0                        0.0                       0.0   \n",
       "1                        0.0                       0.0   \n",
       "2                        0.0                       0.0   \n",
       "3                        0.0                       0.0   \n",
       "4                        0.0                       0.0   \n",
       "\n",
       "   ct_grenade_decoygrenade  t_grenade_decoygrenade round_winner  \n",
       "0                      0.0                     0.0           CT  \n",
       "1                      0.0                     0.0           CT  \n",
       "2                      0.0                     0.0           CT  \n",
       "3                      0.0                     0.0           CT  \n",
       "4                      0.0                     0.0           CT  "
      ]
     },
     "execution_count": 4,
     "metadata": {},
     "output_type": "execute_result"
    }
   ],
   "source": [
    "df.head()"
   ]
  },
  {
   "cell_type": "code",
   "execution_count": 5,
   "id": "835c5c88",
   "metadata": {
    "pycharm": {
     "name": "#%%\n"
    }
   },
   "outputs": [
    {
     "data": {
      "text/plain": [
       "0"
      ]
     },
     "execution_count": 5,
     "metadata": {},
     "output_type": "execute_result"
    }
   ],
   "source": [
    "df.isnull().sum().sum()"
   ]
  },
  {
   "cell_type": "code",
   "execution_count": 6,
   "id": "2c15ea80",
   "metadata": {
    "pycharm": {
     "name": "#%%\n"
    }
   },
   "outputs": [
    {
     "data": {
      "text/plain": [
       "(122410, 97)"
      ]
     },
     "execution_count": 6,
     "metadata": {},
     "output_type": "execute_result"
    }
   ],
   "source": [
    "df.shape"
   ]
  },
  {
   "cell_type": "markdown",
   "id": "020adddc",
   "metadata": {
    "pycharm": {
     "name": "#%% md\n"
    }
   },
   "source": [
    "## Przeprocesowanie danych"
   ]
  },
  {
   "cell_type": "markdown",
   "id": "60f91821",
   "metadata": {
    "pycharm": {
     "name": "#%% md\n"
    }
   },
   "source": [
    "W pierwszej koleności sprawdźmy liczność klas."
   ]
  },
  {
   "cell_type": "code",
   "execution_count": 7,
   "id": "8bb93449",
   "metadata": {
    "pycharm": {
     "name": "#%%\n"
    }
   },
   "outputs": [
    {
     "data": {
      "text/plain": [
       "T     62406\n",
       "CT    60004\n",
       "Name: round_winner, dtype: int64"
      ]
     },
     "execution_count": 7,
     "metadata": {},
     "output_type": "execute_result"
    }
   ],
   "source": [
    "df['round_winner'].value_counts()"
   ]
  },
  {
   "cell_type": "code",
   "execution_count": 8,
   "id": "9e4312bc",
   "metadata": {
    "pycharm": {
     "name": "#%%\n"
    },
    "scrolled": true
   },
   "outputs": [
    {
     "data": {
      "text/plain": [
       "<AxesSubplot:xlabel='round_winner', ylabel='count'>"
      ]
     },
     "execution_count": 8,
     "metadata": {},
     "output_type": "execute_result"
    },
    {
     "data": {
      "image/png": "[encoded data removed]",
      "text/plain": [
       "<Figure size 432x288 with 1 Axes>"
      ]
     },
     "metadata": {},
     "output_type": "display_data"
    }
   ],
   "source": [
    "sns.set_theme(style=\"darkgrid\")\n",
    "sns.countplot(x='round_winner', data=df)"
   ]
  },
  {
   "cell_type": "markdown",
   "id": "c86ff44d",
   "metadata": {
    "pycharm": {
     "name": "#%% md\n"
    }
   },
   "source": [
    "Następnie przekonwertujemy wszystkie kolumny na wartości liczbowe."
   ]
  },
  {
   "cell_type": "code",
   "execution_count": 9,
   "id": "dc0389a9",
   "metadata": {
    "pycharm": {
     "name": "#%%\n"
    }
   },
   "outputs": [
    {
     "data": {
      "text/plain": [
       "Index(['map', 'bomb_planted', 'round_winner'], dtype='object')"
      ]
     },
     "execution_count": 9,
     "metadata": {},
     "output_type": "execute_result"
    }
   ],
   "source": [
    "col = df.drop(df.select_dtypes(np.number), axis = 1).columns\n",
    "col"
   ]
  },
  {
   "cell_type": "code",
   "execution_count": 10,
   "id": "80d0cf08",
   "metadata": {
    "pycharm": {
     "name": "#%%\n"
    }
   },
   "outputs": [],
   "source": [
    "lbl = LabelEncoder()\n",
    "for value in col:\n",
    "    df[value] = lbl.fit_transform(df[value])"
   ]
  },
  {
   "cell_type": "code",
   "execution_count": 11,
   "id": "55facb67",
   "metadata": {
    "pycharm": {
     "name": "#%%\n"
    }
   },
   "outputs": [],
   "source": [
    "df['bomb_planted'] = df['bomb_planted'].astype(np.int16)"
   ]
  },
  {
   "cell_type": "code",
   "execution_count": 12,
   "id": "2ff007f9",
   "metadata": {
    "pycharm": {
     "name": "#%%\n"
    }
   },
   "outputs": [],
   "source": [
    "cols = [f for f in df.columns if f not in ['round_winner']]"
   ]
  },
  {
   "cell_type": "markdown",
   "id": "78c734b4",
   "metadata": {
    "pycharm": {
     "name": "#%% md\n"
    }
   },
   "source": [
    "Dodatkowo każda wartość zostanie znormalizowana."
   ]
  },
  {
   "cell_type": "code",
   "execution_count": 13,
   "id": "72eb1383",
   "metadata": {
    "pycharm": {
     "name": "#%%\n"
    }
   },
   "outputs": [],
   "source": [
    "scaler = RobustScaler()\n",
    "\n",
    "for value in cols:\n",
    "    scaler = RobustScaler()\n",
    "    df[value] = scaler.fit_transform(df[[value]])"
   ]
  },
  {
   "cell_type": "markdown",
   "id": "be3bacf4",
   "metadata": {
    "pycharm": {
     "name": "#%% md\n"
    }
   },
   "source": [
    "Na koniec podzielimy dane na wektor danych oraz wektor wyników."
   ]
  },
  {
   "cell_type": "code",
   "execution_count": 14,
   "id": "cf04be88",
   "metadata": {
    "pycharm": {
     "name": "#%%\n"
    }
   },
   "outputs": [],
   "source": [
    "x = df.drop(['round_winner'], axis = 1)\n",
    "y = df['round_winner']"
   ]
  },
  {
   "cell_type": "code",
   "execution_count": 15,
   "id": "15f55a27",
   "metadata": {
    "pycharm": {
     "name": "#%%\n"
    }
   },
   "outputs": [
    {
     "data": {
      "text/plain": [
       "96"
      ]
     },
     "execution_count": 15,
     "metadata": {},
     "output_type": "execute_result"
    }
   ],
   "source": [
    "len(cols)"
   ]
  },
  {
   "cell_type": "markdown",
   "id": "27c170d1",
   "metadata": {
    "pycharm": {
     "name": "#%% md\n"
    }
   },
   "source": [
    "Finalnie każdy rekord zawiera 96 atrybutów, które prezentują się w sposób przedstawiony poniżej."
   ]
  },
  {
   "cell_type": "code",
   "execution_count": 16,
   "id": "6409d29e",
   "metadata": {
    "pycharm": {
     "name": "#%%\n"
    }
   },
   "outputs": [
    {
     "data": {
      "text/html": [
       "<div>\n",
       "<style scoped>\n",
       "    .dataframe tbody tr th:only-of-type {\n",
       "        vertical-align: middle;\n",
       "    }\n",
       "\n",
       "    .dataframe tbody tr th {\n",
       "        vertical-align: top;\n",
       "    }\n",
       "\n",
       "    .dataframe thead th {\n",
       "        text-align: right;\n",
       "    }\n",
       "</style>\n",
       "<table border=\"1\" class=\"dataframe\">\n",
       "  <thead>\n",
       "    <tr style=\"text-align: right;\">\n",
       "      <th></th>\n",
       "      <th>time_left</th>\n",
       "      <th>ct_score</th>\n",
       "      <th>t_score</th>\n",
       "      <th>map</th>\n",
       "      <th>bomb_planted</th>\n",
       "      <th>ct_health</th>\n",
       "      <th>t_health</th>\n",
       "      <th>ct_armor</th>\n",
       "      <th>t_armor</th>\n",
       "      <th>ct_money</th>\n",
       "      <th>t_money</th>\n",
       "      <th>ct_helmets</th>\n",
       "      <th>t_helmets</th>\n",
       "      <th>ct_defuse_kits</th>\n",
       "      <th>ct_players_alive</th>\n",
       "      <th>t_players_alive</th>\n",
       "      <th>ct_weapon_ak47</th>\n",
       "      <th>t_weapon_ak47</th>\n",
       "      <th>ct_weapon_aug</th>\n",
       "      <th>t_weapon_aug</th>\n",
       "      <th>ct_weapon_awp</th>\n",
       "      <th>t_weapon_awp</th>\n",
       "      <th>ct_weapon_bizon</th>\n",
       "      <th>t_weapon_bizon</th>\n",
       "      <th>ct_weapon_cz75auto</th>\n",
       "      <th>t_weapon_cz75auto</th>\n",
       "      <th>ct_weapon_elite</th>\n",
       "      <th>t_weapon_elite</th>\n",
       "      <th>ct_weapon_famas</th>\n",
       "      <th>t_weapon_famas</th>\n",
       "      <th>ct_weapon_g3sg1</th>\n",
       "      <th>t_weapon_g3sg1</th>\n",
       "      <th>ct_weapon_galilar</th>\n",
       "      <th>t_weapon_galilar</th>\n",
       "      <th>ct_weapon_glock</th>\n",
       "      <th>t_weapon_glock</th>\n",
       "      <th>ct_weapon_m249</th>\n",
       "      <th>t_weapon_m249</th>\n",
       "      <th>ct_weapon_m4a1s</th>\n",
       "      <th>t_weapon_m4a1s</th>\n",
       "      <th>ct_weapon_m4a4</th>\n",
       "      <th>t_weapon_m4a4</th>\n",
       "      <th>ct_weapon_mac10</th>\n",
       "      <th>t_weapon_mac10</th>\n",
       "      <th>ct_weapon_mag7</th>\n",
       "      <th>t_weapon_mag7</th>\n",
       "      <th>ct_weapon_mp5sd</th>\n",
       "      <th>t_weapon_mp5sd</th>\n",
       "      <th>ct_weapon_mp7</th>\n",
       "      <th>t_weapon_mp7</th>\n",
       "      <th>ct_weapon_mp9</th>\n",
       "      <th>t_weapon_mp9</th>\n",
       "      <th>ct_weapon_negev</th>\n",
       "      <th>t_weapon_negev</th>\n",
       "      <th>ct_weapon_nova</th>\n",
       "      <th>t_weapon_nova</th>\n",
       "      <th>ct_weapon_p90</th>\n",
       "      <th>t_weapon_p90</th>\n",
       "      <th>ct_weapon_r8revolver</th>\n",
       "      <th>t_weapon_r8revolver</th>\n",
       "      <th>ct_weapon_sawedoff</th>\n",
       "      <th>t_weapon_sawedoff</th>\n",
       "      <th>ct_weapon_scar20</th>\n",
       "      <th>t_weapon_scar20</th>\n",
       "      <th>ct_weapon_sg553</th>\n",
       "      <th>t_weapon_sg553</th>\n",
       "      <th>ct_weapon_ssg08</th>\n",
       "      <th>t_weapon_ssg08</th>\n",
       "      <th>ct_weapon_ump45</th>\n",
       "      <th>t_weapon_ump45</th>\n",
       "      <th>ct_weapon_xm1014</th>\n",
       "      <th>t_weapon_xm1014</th>\n",
       "      <th>ct_weapon_deagle</th>\n",
       "      <th>t_weapon_deagle</th>\n",
       "      <th>ct_weapon_fiveseven</th>\n",
       "      <th>t_weapon_fiveseven</th>\n",
       "      <th>ct_weapon_usps</th>\n",
       "      <th>t_weapon_usps</th>\n",
       "      <th>ct_weapon_p250</th>\n",
       "      <th>t_weapon_p250</th>\n",
       "      <th>ct_weapon_p2000</th>\n",
       "      <th>t_weapon_p2000</th>\n",
       "      <th>ct_weapon_tec9</th>\n",
       "      <th>t_weapon_tec9</th>\n",
       "      <th>ct_grenade_hegrenade</th>\n",
       "      <th>t_grenade_hegrenade</th>\n",
       "      <th>ct_grenade_flashbang</th>\n",
       "      <th>t_grenade_flashbang</th>\n",
       "      <th>ct_grenade_smokegrenade</th>\n",
       "      <th>t_grenade_smokegrenade</th>\n",
       "      <th>ct_grenade_incendiarygrenade</th>\n",
       "      <th>t_grenade_incendiarygrenade</th>\n",
       "      <th>ct_grenade_molotovgrenade</th>\n",
       "      <th>t_grenade_molotovgrenade</th>\n",
       "      <th>ct_grenade_decoygrenade</th>\n",
       "      <th>t_grenade_decoygrenade</th>\n",
       "    </tr>\n",
       "  </thead>\n",
       "  <tbody>\n",
       "    <tr>\n",
       "      <th>0</th>\n",
       "      <td>0.715105</td>\n",
       "      <td>-0.857143</td>\n",
       "      <td>-0.857143</td>\n",
       "      <td>-0.666667</td>\n",
       "      <td>0.0</td>\n",
       "      <td>0.000000</td>\n",
       "      <td>0.000000</td>\n",
       "      <td>-1.291096</td>\n",
       "      <td>-1.136054</td>\n",
       "      <td>-0.112782</td>\n",
       "      <td>-0.191489</td>\n",
       "      <td>-0.5</td>\n",
       "      <td>-0.6</td>\n",
       "      <td>-0.333333</td>\n",
       "      <td>0.0</td>\n",
       "      <td>0.0</td>\n",
       "      <td>0.0</td>\n",
       "      <td>-0.5</td>\n",
       "      <td>0.0</td>\n",
       "      <td>0.0</td>\n",
       "      <td>0.0</td>\n",
       "      <td>0.0</td>\n",
       "      <td>0.0</td>\n",
       "      <td>0.0</td>\n",
       "      <td>0.0</td>\n",
       "      <td>0.0</td>\n",
       "      <td>0.0</td>\n",
       "      <td>0.0</td>\n",
       "      <td>0.0</td>\n",
       "      <td>0.0</td>\n",
       "      <td>0.0</td>\n",
       "      <td>0.0</td>\n",
       "      <td>0.0</td>\n",
       "      <td>0.0</td>\n",
       "      <td>0.0</td>\n",
       "      <td>0.333333</td>\n",
       "      <td>0.0</td>\n",
       "      <td>0.0</td>\n",
       "      <td>0.0</td>\n",
       "      <td>0.0</td>\n",
       "      <td>-0.5</td>\n",
       "      <td>0.0</td>\n",
       "      <td>0.0</td>\n",
       "      <td>0.0</td>\n",
       "      <td>0.0</td>\n",
       "      <td>0.0</td>\n",
       "      <td>0.0</td>\n",
       "      <td>0.0</td>\n",
       "      <td>0.0</td>\n",
       "      <td>0.0</td>\n",
       "      <td>0.0</td>\n",
       "      <td>0.0</td>\n",
       "      <td>0.0</td>\n",
       "      <td>0.0</td>\n",
       "      <td>0.0</td>\n",
       "      <td>0.0</td>\n",
       "      <td>0.0</td>\n",
       "      <td>0.0</td>\n",
       "      <td>0.0</td>\n",
       "      <td>0.0</td>\n",
       "      <td>0.0</td>\n",
       "      <td>0.0</td>\n",
       "      <td>0.0</td>\n",
       "      <td>0.0</td>\n",
       "      <td>0.0</td>\n",
       "      <td>0.0</td>\n",
       "      <td>0.0</td>\n",
       "      <td>0.0</td>\n",
       "      <td>0.0</td>\n",
       "      <td>0.0</td>\n",
       "      <td>0.0</td>\n",
       "      <td>0.0</td>\n",
       "      <td>0.0</td>\n",
       "      <td>0.0</td>\n",
       "      <td>0.0</td>\n",
       "      <td>0.0</td>\n",
       "      <td>0.333333</td>\n",
       "      <td>0.0</td>\n",
       "      <td>0.0</td>\n",
       "      <td>0.0</td>\n",
       "      <td>1.0</td>\n",
       "      <td>0.0</td>\n",
       "      <td>0.0</td>\n",
       "      <td>0.0</td>\n",
       "      <td>0.0</td>\n",
       "      <td>0.0</td>\n",
       "      <td>-0.333333</td>\n",
       "      <td>-0.333333</td>\n",
       "      <td>-0.333333</td>\n",
       "      <td>-0.333333</td>\n",
       "      <td>0.0</td>\n",
       "      <td>0.0</td>\n",
       "      <td>0.0</td>\n",
       "      <td>-0.5</td>\n",
       "      <td>0.0</td>\n",
       "      <td>0.0</td>\n",
       "    </tr>\n",
       "    <tr>\n",
       "      <th>1</th>\n",
       "      <td>0.545726</td>\n",
       "      <td>-0.857143</td>\n",
       "      <td>-0.857143</td>\n",
       "      <td>-0.666667</td>\n",
       "      <td>0.0</td>\n",
       "      <td>0.000000</td>\n",
       "      <td>0.000000</td>\n",
       "      <td>0.078767</td>\n",
       "      <td>-0.115646</td>\n",
       "      <td>-0.368421</td>\n",
       "      <td>-0.395137</td>\n",
       "      <td>-0.5</td>\n",
       "      <td>-0.6</td>\n",
       "      <td>0.000000</td>\n",
       "      <td>0.0</td>\n",
       "      <td>0.0</td>\n",
       "      <td>0.0</td>\n",
       "      <td>-0.5</td>\n",
       "      <td>0.0</td>\n",
       "      <td>0.0</td>\n",
       "      <td>0.0</td>\n",
       "      <td>0.0</td>\n",
       "      <td>0.0</td>\n",
       "      <td>0.0</td>\n",
       "      <td>0.0</td>\n",
       "      <td>0.0</td>\n",
       "      <td>0.0</td>\n",
       "      <td>0.0</td>\n",
       "      <td>0.0</td>\n",
       "      <td>0.0</td>\n",
       "      <td>0.0</td>\n",
       "      <td>0.0</td>\n",
       "      <td>0.0</td>\n",
       "      <td>0.0</td>\n",
       "      <td>0.0</td>\n",
       "      <td>0.333333</td>\n",
       "      <td>0.0</td>\n",
       "      <td>0.0</td>\n",
       "      <td>0.0</td>\n",
       "      <td>0.0</td>\n",
       "      <td>-0.5</td>\n",
       "      <td>0.0</td>\n",
       "      <td>0.0</td>\n",
       "      <td>0.0</td>\n",
       "      <td>0.0</td>\n",
       "      <td>0.0</td>\n",
       "      <td>0.0</td>\n",
       "      <td>0.0</td>\n",
       "      <td>0.0</td>\n",
       "      <td>0.0</td>\n",
       "      <td>0.0</td>\n",
       "      <td>0.0</td>\n",
       "      <td>0.0</td>\n",
       "      <td>0.0</td>\n",
       "      <td>0.0</td>\n",
       "      <td>0.0</td>\n",
       "      <td>0.0</td>\n",
       "      <td>0.0</td>\n",
       "      <td>0.0</td>\n",
       "      <td>0.0</td>\n",
       "      <td>0.0</td>\n",
       "      <td>0.0</td>\n",
       "      <td>0.0</td>\n",
       "      <td>0.0</td>\n",
       "      <td>0.0</td>\n",
       "      <td>0.0</td>\n",
       "      <td>0.0</td>\n",
       "      <td>0.0</td>\n",
       "      <td>0.0</td>\n",
       "      <td>0.0</td>\n",
       "      <td>0.0</td>\n",
       "      <td>0.0</td>\n",
       "      <td>0.0</td>\n",
       "      <td>0.0</td>\n",
       "      <td>0.0</td>\n",
       "      <td>0.0</td>\n",
       "      <td>0.333333</td>\n",
       "      <td>0.0</td>\n",
       "      <td>0.0</td>\n",
       "      <td>0.0</td>\n",
       "      <td>1.0</td>\n",
       "      <td>0.0</td>\n",
       "      <td>0.0</td>\n",
       "      <td>0.0</td>\n",
       "      <td>0.0</td>\n",
       "      <td>0.0</td>\n",
       "      <td>-0.333333</td>\n",
       "      <td>-0.333333</td>\n",
       "      <td>-0.333333</td>\n",
       "      <td>0.333333</td>\n",
       "      <td>0.0</td>\n",
       "      <td>0.0</td>\n",
       "      <td>0.0</td>\n",
       "      <td>-0.5</td>\n",
       "      <td>0.0</td>\n",
       "      <td>0.0</td>\n",
       "    </tr>\n",
       "    <tr>\n",
       "      <th>2</th>\n",
       "      <td>0.010000</td>\n",
       "      <td>-0.857143</td>\n",
       "      <td>-0.857143</td>\n",
       "      <td>-0.666667</td>\n",
       "      <td>0.0</td>\n",
       "      <td>-0.726667</td>\n",
       "      <td>-0.561798</td>\n",
       "      <td>-0.284247</td>\n",
       "      <td>-0.455782</td>\n",
       "      <td>-0.357143</td>\n",
       "      <td>-0.404255</td>\n",
       "      <td>-0.5</td>\n",
       "      <td>-0.6</td>\n",
       "      <td>0.000000</td>\n",
       "      <td>-1.0</td>\n",
       "      <td>-1.0</td>\n",
       "      <td>0.0</td>\n",
       "      <td>-0.5</td>\n",
       "      <td>0.0</td>\n",
       "      <td>0.0</td>\n",
       "      <td>0.0</td>\n",
       "      <td>0.0</td>\n",
       "      <td>0.0</td>\n",
       "      <td>0.0</td>\n",
       "      <td>0.0</td>\n",
       "      <td>0.0</td>\n",
       "      <td>0.0</td>\n",
       "      <td>0.0</td>\n",
       "      <td>0.0</td>\n",
       "      <td>0.0</td>\n",
       "      <td>0.0</td>\n",
       "      <td>0.0</td>\n",
       "      <td>0.0</td>\n",
       "      <td>0.0</td>\n",
       "      <td>0.0</td>\n",
       "      <td>0.000000</td>\n",
       "      <td>0.0</td>\n",
       "      <td>0.0</td>\n",
       "      <td>0.0</td>\n",
       "      <td>0.0</td>\n",
       "      <td>-0.5</td>\n",
       "      <td>0.0</td>\n",
       "      <td>0.0</td>\n",
       "      <td>0.0</td>\n",
       "      <td>0.0</td>\n",
       "      <td>0.0</td>\n",
       "      <td>0.0</td>\n",
       "      <td>0.0</td>\n",
       "      <td>0.0</td>\n",
       "      <td>0.0</td>\n",
       "      <td>0.0</td>\n",
       "      <td>0.0</td>\n",
       "      <td>0.0</td>\n",
       "      <td>0.0</td>\n",
       "      <td>0.0</td>\n",
       "      <td>0.0</td>\n",
       "      <td>0.0</td>\n",
       "      <td>0.0</td>\n",
       "      <td>0.0</td>\n",
       "      <td>0.0</td>\n",
       "      <td>0.0</td>\n",
       "      <td>0.0</td>\n",
       "      <td>0.0</td>\n",
       "      <td>0.0</td>\n",
       "      <td>0.0</td>\n",
       "      <td>0.0</td>\n",
       "      <td>0.0</td>\n",
       "      <td>0.0</td>\n",
       "      <td>0.0</td>\n",
       "      <td>0.0</td>\n",
       "      <td>0.0</td>\n",
       "      <td>0.0</td>\n",
       "      <td>0.0</td>\n",
       "      <td>0.0</td>\n",
       "      <td>0.0</td>\n",
       "      <td>0.0</td>\n",
       "      <td>0.333333</td>\n",
       "      <td>0.0</td>\n",
       "      <td>0.0</td>\n",
       "      <td>0.0</td>\n",
       "      <td>0.0</td>\n",
       "      <td>0.0</td>\n",
       "      <td>0.0</td>\n",
       "      <td>0.0</td>\n",
       "      <td>0.0</td>\n",
       "      <td>0.0</td>\n",
       "      <td>-0.333333</td>\n",
       "      <td>-0.333333</td>\n",
       "      <td>-0.333333</td>\n",
       "      <td>0.333333</td>\n",
       "      <td>0.0</td>\n",
       "      <td>0.0</td>\n",
       "      <td>0.0</td>\n",
       "      <td>-0.5</td>\n",
       "      <td>0.0</td>\n",
       "      <td>0.0</td>\n",
       "    </tr>\n",
       "    <tr>\n",
       "      <th>3</th>\n",
       "      <td>-0.168575</td>\n",
       "      <td>-0.857143</td>\n",
       "      <td>-0.857143</td>\n",
       "      <td>-0.666667</td>\n",
       "      <td>0.0</td>\n",
       "      <td>-0.726667</td>\n",
       "      <td>-0.561798</td>\n",
       "      <td>-0.284247</td>\n",
       "      <td>-0.455782</td>\n",
       "      <td>-0.357143</td>\n",
       "      <td>-0.404255</td>\n",
       "      <td>-0.5</td>\n",
       "      <td>-0.6</td>\n",
       "      <td>0.000000</td>\n",
       "      <td>-1.0</td>\n",
       "      <td>-1.0</td>\n",
       "      <td>0.0</td>\n",
       "      <td>-0.5</td>\n",
       "      <td>0.0</td>\n",
       "      <td>0.0</td>\n",
       "      <td>0.0</td>\n",
       "      <td>0.0</td>\n",
       "      <td>0.0</td>\n",
       "      <td>0.0</td>\n",
       "      <td>0.0</td>\n",
       "      <td>0.0</td>\n",
       "      <td>0.0</td>\n",
       "      <td>0.0</td>\n",
       "      <td>0.0</td>\n",
       "      <td>0.0</td>\n",
       "      <td>0.0</td>\n",
       "      <td>0.0</td>\n",
       "      <td>0.0</td>\n",
       "      <td>0.0</td>\n",
       "      <td>0.0</td>\n",
       "      <td>-0.333333</td>\n",
       "      <td>0.0</td>\n",
       "      <td>0.0</td>\n",
       "      <td>0.0</td>\n",
       "      <td>0.0</td>\n",
       "      <td>-0.5</td>\n",
       "      <td>0.0</td>\n",
       "      <td>0.0</td>\n",
       "      <td>0.0</td>\n",
       "      <td>0.0</td>\n",
       "      <td>0.0</td>\n",
       "      <td>0.0</td>\n",
       "      <td>0.0</td>\n",
       "      <td>0.0</td>\n",
       "      <td>0.0</td>\n",
       "      <td>0.0</td>\n",
       "      <td>0.0</td>\n",
       "      <td>0.0</td>\n",
       "      <td>0.0</td>\n",
       "      <td>0.0</td>\n",
       "      <td>0.0</td>\n",
       "      <td>0.0</td>\n",
       "      <td>0.0</td>\n",
       "      <td>0.0</td>\n",
       "      <td>0.0</td>\n",
       "      <td>0.0</td>\n",
       "      <td>0.0</td>\n",
       "      <td>0.0</td>\n",
       "      <td>0.0</td>\n",
       "      <td>0.0</td>\n",
       "      <td>0.0</td>\n",
       "      <td>0.0</td>\n",
       "      <td>0.0</td>\n",
       "      <td>0.0</td>\n",
       "      <td>0.0</td>\n",
       "      <td>0.0</td>\n",
       "      <td>0.0</td>\n",
       "      <td>0.0</td>\n",
       "      <td>0.0</td>\n",
       "      <td>0.0</td>\n",
       "      <td>0.0</td>\n",
       "      <td>0.333333</td>\n",
       "      <td>0.0</td>\n",
       "      <td>0.0</td>\n",
       "      <td>0.0</td>\n",
       "      <td>0.0</td>\n",
       "      <td>1.0</td>\n",
       "      <td>0.0</td>\n",
       "      <td>0.0</td>\n",
       "      <td>0.0</td>\n",
       "      <td>0.0</td>\n",
       "      <td>-0.333333</td>\n",
       "      <td>-0.333333</td>\n",
       "      <td>-0.333333</td>\n",
       "      <td>-0.333333</td>\n",
       "      <td>0.0</td>\n",
       "      <td>0.0</td>\n",
       "      <td>0.0</td>\n",
       "      <td>-0.5</td>\n",
       "      <td>0.0</td>\n",
       "      <td>0.0</td>\n",
       "    </tr>\n",
       "    <tr>\n",
       "      <th>4</th>\n",
       "      <td>0.714837</td>\n",
       "      <td>-0.714286</td>\n",
       "      <td>-0.857143</td>\n",
       "      <td>-0.666667</td>\n",
       "      <td>0.0</td>\n",
       "      <td>0.000000</td>\n",
       "      <td>0.000000</td>\n",
       "      <td>-0.633562</td>\n",
       "      <td>-1.136054</td>\n",
       "      <td>0.966165</td>\n",
       "      <td>0.218845</td>\n",
       "      <td>-0.5</td>\n",
       "      <td>-0.6</td>\n",
       "      <td>0.000000</td>\n",
       "      <td>0.0</td>\n",
       "      <td>0.0</td>\n",
       "      <td>0.0</td>\n",
       "      <td>-0.5</td>\n",
       "      <td>0.0</td>\n",
       "      <td>0.0</td>\n",
       "      <td>0.0</td>\n",
       "      <td>0.0</td>\n",
       "      <td>0.0</td>\n",
       "      <td>0.0</td>\n",
       "      <td>0.0</td>\n",
       "      <td>0.0</td>\n",
       "      <td>0.0</td>\n",
       "      <td>0.0</td>\n",
       "      <td>0.0</td>\n",
       "      <td>0.0</td>\n",
       "      <td>0.0</td>\n",
       "      <td>0.0</td>\n",
       "      <td>0.0</td>\n",
       "      <td>0.0</td>\n",
       "      <td>0.0</td>\n",
       "      <td>0.333333</td>\n",
       "      <td>0.0</td>\n",
       "      <td>0.0</td>\n",
       "      <td>0.0</td>\n",
       "      <td>0.0</td>\n",
       "      <td>-0.5</td>\n",
       "      <td>0.0</td>\n",
       "      <td>0.0</td>\n",
       "      <td>0.0</td>\n",
       "      <td>0.0</td>\n",
       "      <td>0.0</td>\n",
       "      <td>0.0</td>\n",
       "      <td>0.0</td>\n",
       "      <td>0.0</td>\n",
       "      <td>0.0</td>\n",
       "      <td>0.0</td>\n",
       "      <td>0.0</td>\n",
       "      <td>0.0</td>\n",
       "      <td>0.0</td>\n",
       "      <td>0.0</td>\n",
       "      <td>0.0</td>\n",
       "      <td>0.0</td>\n",
       "      <td>0.0</td>\n",
       "      <td>0.0</td>\n",
       "      <td>0.0</td>\n",
       "      <td>0.0</td>\n",
       "      <td>0.0</td>\n",
       "      <td>0.0</td>\n",
       "      <td>0.0</td>\n",
       "      <td>0.0</td>\n",
       "      <td>0.0</td>\n",
       "      <td>0.0</td>\n",
       "      <td>0.0</td>\n",
       "      <td>0.0</td>\n",
       "      <td>0.0</td>\n",
       "      <td>0.0</td>\n",
       "      <td>0.0</td>\n",
       "      <td>0.0</td>\n",
       "      <td>0.0</td>\n",
       "      <td>0.0</td>\n",
       "      <td>0.0</td>\n",
       "      <td>0.333333</td>\n",
       "      <td>0.0</td>\n",
       "      <td>0.0</td>\n",
       "      <td>0.0</td>\n",
       "      <td>1.0</td>\n",
       "      <td>0.0</td>\n",
       "      <td>0.0</td>\n",
       "      <td>0.0</td>\n",
       "      <td>0.0</td>\n",
       "      <td>0.0</td>\n",
       "      <td>-0.333333</td>\n",
       "      <td>-0.333333</td>\n",
       "      <td>-0.333333</td>\n",
       "      <td>-0.333333</td>\n",
       "      <td>0.0</td>\n",
       "      <td>0.0</td>\n",
       "      <td>0.0</td>\n",
       "      <td>-0.5</td>\n",
       "      <td>0.0</td>\n",
       "      <td>0.0</td>\n",
       "    </tr>\n",
       "  </tbody>\n",
       "</table>\n",
       "</div>"
      ],
      "text/plain": [
       "   time_left  ct_score   t_score       map  bomb_planted  ct_health  t_health  \\\n",
       "0   0.715105 -0.857143 -0.857143 -0.666667           0.0   0.000000  0.000000   \n",
       "1   0.545726 -0.857143 -0.857143 -0.666667           0.0   0.000000  0.000000   \n",
       "2   0.010000 -0.857143 -0.857143 -0.666667           0.0  -0.726667 -0.561798   \n",
       "3  -0.168575 -0.857143 -0.857143 -0.666667           0.0  -0.726667 -0.561798   \n",
       "4   0.714837 -0.714286 -0.857143 -0.666667           0.0   0.000000  0.000000   \n",
       "\n",
       "   ct_armor   t_armor  ct_money   t_money  ct_helmets  t_helmets  \\\n",
       "0 -1.291096 -1.136054 -0.112782 -0.191489        -0.5       -0.6   \n",
       "1  0.078767 -0.115646 -0.368421 -0.395137        -0.5       -0.6   \n",
       "2 -0.284247 -0.455782 -0.357143 -0.404255        -0.5       -0.6   \n",
       "3 -0.284247 -0.455782 -0.357143 -0.404255        -0.5       -0.6   \n",
       "4 -0.633562 -1.136054  0.966165  0.218845        -0.5       -0.6   \n",
       "\n",
       "   ct_defuse_kits  ct_players_alive  t_players_alive  ct_weapon_ak47  \\\n",
       "0       -0.333333               0.0              0.0             0.0   \n",
       "1        0.000000               0.0              0.0             0.0   \n",
       "2        0.000000              -1.0             -1.0             0.0   \n",
       "3        0.000000              -1.0             -1.0             0.0   \n",
       "4        0.000000               0.0              0.0             0.0   \n",
       "\n",
       "   t_weapon_ak47  ct_weapon_aug  t_weapon_aug  ct_weapon_awp  t_weapon_awp  \\\n",
       "0           -0.5            0.0           0.0            0.0           0.0   \n",
       "1           -0.5            0.0           0.0            0.0           0.0   \n",
       "2           -0.5            0.0           0.0            0.0           0.0   \n",
       "3           -0.5            0.0           0.0            0.0           0.0   \n",
       "4           -0.5            0.0           0.0            0.0           0.0   \n",
       "\n",
       "   ct_weapon_bizon  t_weapon_bizon  ct_weapon_cz75auto  t_weapon_cz75auto  \\\n",
       "0              0.0             0.0                 0.0                0.0   \n",
       "1              0.0             0.0                 0.0                0.0   \n",
       "2              0.0             0.0                 0.0                0.0   \n",
       "3              0.0             0.0                 0.0                0.0   \n",
       "4              0.0             0.0                 0.0                0.0   \n",
       "\n",
       "   ct_weapon_elite  t_weapon_elite  ct_weapon_famas  t_weapon_famas  \\\n",
       "0              0.0             0.0              0.0             0.0   \n",
       "1              0.0             0.0              0.0             0.0   \n",
       "2              0.0             0.0              0.0             0.0   \n",
       "3              0.0             0.0              0.0             0.0   \n",
       "4              0.0             0.0              0.0             0.0   \n",
       "\n",
       "   ct_weapon_g3sg1  t_weapon_g3sg1  ct_weapon_galilar  t_weapon_galilar  \\\n",
       "0              0.0             0.0                0.0               0.0   \n",
       "1              0.0             0.0                0.0               0.0   \n",
       "2              0.0             0.0                0.0               0.0   \n",
       "3              0.0             0.0                0.0               0.0   \n",
       "4              0.0             0.0                0.0               0.0   \n",
       "\n",
       "   ct_weapon_glock  t_weapon_glock  ct_weapon_m249  t_weapon_m249  \\\n",
       "0              0.0        0.333333             0.0            0.0   \n",
       "1              0.0        0.333333             0.0            0.0   \n",
       "2              0.0        0.000000             0.0            0.0   \n",
       "3              0.0       -0.333333             0.0            0.0   \n",
       "4              0.0        0.333333             0.0            0.0   \n",
       "\n",
       "   ct_weapon_m4a1s  t_weapon_m4a1s  ct_weapon_m4a4  t_weapon_m4a4  \\\n",
       "0              0.0             0.0            -0.5            0.0   \n",
       "1              0.0             0.0            -0.5            0.0   \n",
       "2              0.0             0.0            -0.5            0.0   \n",
       "3              0.0             0.0            -0.5            0.0   \n",
       "4              0.0             0.0            -0.5            0.0   \n",
       "\n",
       "   ct_weapon_mac10  t_weapon_mac10  ct_weapon_mag7  t_weapon_mag7  \\\n",
       "0              0.0             0.0             0.0            0.0   \n",
       "1              0.0             0.0             0.0            0.0   \n",
       "2              0.0             0.0             0.0            0.0   \n",
       "3              0.0             0.0             0.0            0.0   \n",
       "4              0.0             0.0             0.0            0.0   \n",
       "\n",
       "   ct_weapon_mp5sd  t_weapon_mp5sd  ct_weapon_mp7  t_weapon_mp7  \\\n",
       "0              0.0             0.0            0.0           0.0   \n",
       "1              0.0             0.0            0.0           0.0   \n",
       "2              0.0             0.0            0.0           0.0   \n",
       "3              0.0             0.0            0.0           0.0   \n",
       "4              0.0             0.0            0.0           0.0   \n",
       "\n",
       "   ct_weapon_mp9  t_weapon_mp9  ct_weapon_negev  t_weapon_negev  \\\n",
       "0            0.0           0.0              0.0             0.0   \n",
       "1            0.0           0.0              0.0             0.0   \n",
       "2            0.0           0.0              0.0             0.0   \n",
       "3            0.0           0.0              0.0             0.0   \n",
       "4            0.0           0.0              0.0             0.0   \n",
       "\n",
       "   ct_weapon_nova  t_weapon_nova  ct_weapon_p90  t_weapon_p90  \\\n",
       "0             0.0            0.0            0.0           0.0   \n",
       "1             0.0            0.0            0.0           0.0   \n",
       "2             0.0            0.0            0.0           0.0   \n",
       "3             0.0            0.0            0.0           0.0   \n",
       "4             0.0            0.0            0.0           0.0   \n",
       "\n",
       "   ct_weapon_r8revolver  t_weapon_r8revolver  ct_weapon_sawedoff  \\\n",
       "0                   0.0                  0.0                 0.0   \n",
       "1                   0.0                  0.0                 0.0   \n",
       "2                   0.0                  0.0                 0.0   \n",
       "3                   0.0                  0.0                 0.0   \n",
       "4                   0.0                  0.0                 0.0   \n",
       "\n",
       "   t_weapon_sawedoff  ct_weapon_scar20  t_weapon_scar20  ct_weapon_sg553  \\\n",
       "0                0.0               0.0              0.0              0.0   \n",
       "1                0.0               0.0              0.0              0.0   \n",
       "2                0.0               0.0              0.0              0.0   \n",
       "3                0.0               0.0              0.0              0.0   \n",
       "4                0.0               0.0              0.0              0.0   \n",
       "\n",
       "   t_weapon_sg553  ct_weapon_ssg08  t_weapon_ssg08  ct_weapon_ump45  \\\n",
       "0             0.0              0.0             0.0              0.0   \n",
       "1             0.0              0.0             0.0              0.0   \n",
       "2             0.0              0.0             0.0              0.0   \n",
       "3             0.0              0.0             0.0              0.0   \n",
       "4             0.0              0.0             0.0              0.0   \n",
       "\n",
       "   t_weapon_ump45  ct_weapon_xm1014  t_weapon_xm1014  ct_weapon_deagle  \\\n",
       "0             0.0               0.0              0.0               0.0   \n",
       "1             0.0               0.0              0.0               0.0   \n",
       "2             0.0               0.0              0.0               0.0   \n",
       "3             0.0               0.0              0.0               0.0   \n",
       "4             0.0               0.0              0.0               0.0   \n",
       "\n",
       "   t_weapon_deagle  ct_weapon_fiveseven  t_weapon_fiveseven  ct_weapon_usps  \\\n",
       "0              0.0                  0.0                 0.0        0.333333   \n",
       "1              0.0                  0.0                 0.0        0.333333   \n",
       "2              0.0                  0.0                 0.0        0.333333   \n",
       "3              0.0                  0.0                 0.0        0.333333   \n",
       "4              0.0                  0.0                 0.0        0.333333   \n",
       "\n",
       "   t_weapon_usps  ct_weapon_p250  t_weapon_p250  ct_weapon_p2000  \\\n",
       "0            0.0             0.0            0.0              1.0   \n",
       "1            0.0             0.0            0.0              1.0   \n",
       "2            0.0             0.0            0.0              0.0   \n",
       "3            0.0             0.0            0.0              0.0   \n",
       "4            0.0             0.0            0.0              1.0   \n",
       "\n",
       "   t_weapon_p2000  ct_weapon_tec9  t_weapon_tec9  ct_grenade_hegrenade  \\\n",
       "0             0.0             0.0            0.0                   0.0   \n",
       "1             0.0             0.0            0.0                   0.0   \n",
       "2             0.0             0.0            0.0                   0.0   \n",
       "3             1.0             0.0            0.0                   0.0   \n",
       "4             0.0             0.0            0.0                   0.0   \n",
       "\n",
       "   t_grenade_hegrenade  ct_grenade_flashbang  t_grenade_flashbang  \\\n",
       "0                  0.0             -0.333333            -0.333333   \n",
       "1                  0.0             -0.333333            -0.333333   \n",
       "2                  0.0             -0.333333            -0.333333   \n",
       "3                  0.0             -0.333333            -0.333333   \n",
       "4                  0.0             -0.333333            -0.333333   \n",
       "\n",
       "   ct_grenade_smokegrenade  t_grenade_smokegrenade  \\\n",
       "0                -0.333333               -0.333333   \n",
       "1                -0.333333                0.333333   \n",
       "2                -0.333333                0.333333   \n",
       "3                -0.333333               -0.333333   \n",
       "4                -0.333333               -0.333333   \n",
       "\n",
       "   ct_grenade_incendiarygrenade  t_grenade_incendiarygrenade  \\\n",
       "0                           0.0                          0.0   \n",
       "1                           0.0                          0.0   \n",
       "2                           0.0                          0.0   \n",
       "3                           0.0                          0.0   \n",
       "4                           0.0                          0.0   \n",
       "\n",
       "   ct_grenade_molotovgrenade  t_grenade_molotovgrenade  \\\n",
       "0                        0.0                      -0.5   \n",
       "1                        0.0                      -0.5   \n",
       "2                        0.0                      -0.5   \n",
       "3                        0.0                      -0.5   \n",
       "4                        0.0                      -0.5   \n",
       "\n",
       "   ct_grenade_decoygrenade  t_grenade_decoygrenade  \n",
       "0                      0.0                     0.0  \n",
       "1                      0.0                     0.0  \n",
       "2                      0.0                     0.0  \n",
       "3                      0.0                     0.0  \n",
       "4                      0.0                     0.0  "
      ]
     },
     "execution_count": 16,
     "metadata": {},
     "output_type": "execute_result"
    }
   ],
   "source": [
    "x.head()"
   ]
  },
  {
   "cell_type": "markdown",
   "id": "1e693ab3",
   "metadata": {
    "pycharm": {
     "name": "#%% md\n"
    }
   },
   "source": [
    "### Wybór atrybutów"
   ]
  },
  {
   "cell_type": "markdown",
   "id": "a7481fda",
   "metadata": {
    "pycharm": {
     "name": "#%% md\n"
    }
   },
   "source": [
    "W pierwszej kolejności sprawdzimy, które atrybuty mają największy wpływ na klasy.\n",
    "\n",
    "W tym celu wykorzystamy model *Random Forest Regressor*, który dopasowuje szereg klasyfikujących drzew decyzyjnych do różnych podpróbek zbioru danych i wykorzystuje uśrednianie w celu poprawy dokładności predykcyjnej i kontroli nadmiernego dopasowania."
   ]
  },
  {
   "cell_type": "code",
   "execution_count": 17,
   "id": "139ada45",
   "metadata": {
    "pycharm": {
     "name": "#%%\n"
    }
   },
   "outputs": [
    {
     "data": {
      "text/plain": [
       "RandomForestRegressor(n_estimators=150, n_jobs=-1)"
      ]
     },
     "execution_count": 17,
     "metadata": {},
     "output_type": "execute_result"
    }
   ],
   "source": [
    "rf = RandomForestRegressor(n_estimators=150, n_jobs=-1)\n",
    "rf.fit(x, y)"
   ]
  },
  {
   "cell_type": "markdown",
   "id": "32b2bb46",
   "metadata": {
    "pycharm": {
     "name": "#%% md\n"
    }
   },
   "source": [
    "Po stworzeniu i wyuczeniu modelu sortujemy tablice zawierającą informacje o tym, jak duży wpływ mają konkretne atrybuty w podejmowaniu decyzji."
   ]
  },
  {
   "cell_type": "code",
   "execution_count": 18,
   "id": "2887c918",
   "metadata": {
    "pycharm": {
     "name": "#%%\n"
    }
   },
   "outputs": [],
   "source": [
    "indexes = rf.feature_importances_.argsort()"
   ]
  },
  {
   "cell_type": "markdown",
   "id": "70db25ea",
   "metadata": {
    "pycharm": {
     "name": "#%% md\n"
    }
   },
   "source": [
    "Wpływ poszczególnych atrybutów został przedstawiony na poniższym wykresie."
   ]
  },
  {
   "cell_type": "code",
   "execution_count": 19,
   "id": "d8ab464c",
   "metadata": {
    "pycharm": {
     "name": "#%%\n"
    }
   },
   "outputs": [
    {
     "data": {
      "text/plain": [
       "Text(0.5, 0, 'Feature Importance')"
      ]
     },
     "execution_count": 19,
     "metadata": {},
     "output_type": "execute_result"
    },
    {
     "data": {
      "image/png": "[encoded data removed]",
      "text/plain": [
       "<Figure size 432x1440 with 1 Axes>"
      ]
     },
     "metadata": {},
     "output_type": "display_data"
    }
   ],
   "source": [
    "plt.figure(figsize=(6,20))\n",
    "plt.barh(x.columns[indexes], rf.feature_importances_[indexes])\n",
    "plt.xlabel(\"Feature Importance\")"
   ]
  },
  {
   "cell_type": "markdown",
   "id": "ea27b936",
   "metadata": {
    "pycharm": {
     "name": "#%% md\n"
    }
   },
   "source": [
    "Następnie możemy odrzucić te atrybuty, które mają niski wpływ na podejmowanie decyzji lub nie mają żadnego. W tym celu wybraliśmy te atrybuty, dla których wartość parametru *feature_importance* jest większa od wartości 0,005."
   ]
  },
  {
   "cell_type": "code",
   "execution_count": 20,
   "id": "cdfc6414",
   "metadata": {
    "pycharm": {
     "name": "#%%\n"
    }
   },
   "outputs": [],
   "source": [
    "importances = rf.feature_importances_[indexes]\n",
    "indexes = indexes[np.argwhere(importances > 0.005)]\n",
    "indexes = np.concatenate(indexes).ravel().tolist()\n",
    "columns = x.columns[indexes]\n",
    "x = x[columns]"
   ]
  },
  {
   "cell_type": "markdown",
   "id": "b7363f00",
   "metadata": {
    "pycharm": {
     "name": "#%% md\n"
    }
   },
   "source": [
    "W tym momencie możemy sprawdzić liczbę atrybutów pozostałych po selekcji."
   ]
  },
  {
   "cell_type": "code",
   "execution_count": 21,
   "id": "caf31fa8",
   "metadata": {
    "pycharm": {
     "name": "#%%\n"
    }
   },
   "outputs": [
    {
     "data": {
      "text/plain": [
       "(122410, 39)"
      ]
     },
     "execution_count": 21,
     "metadata": {},
     "output_type": "execute_result"
    }
   ],
   "source": [
    "x.shape"
   ]
  },
  {
   "cell_type": "markdown",
   "id": "2a7131bc",
   "metadata": {
    "pycharm": {
     "name": "#%% md\n"
    }
   },
   "source": [
    "Mamy 38 atrybutów, które prezentują się jak w poniższej tabeli."
   ]
  },
  {
   "cell_type": "code",
   "execution_count": 22,
   "id": "6980782e",
   "metadata": {
    "pycharm": {
     "name": "#%%\n"
    }
   },
   "outputs": [
    {
     "data": {
      "text/html": [
       "<div>\n",
       "<style scoped>\n",
       "    .dataframe tbody tr th:only-of-type {\n",
       "        vertical-align: middle;\n",
       "    }\n",
       "\n",
       "    .dataframe tbody tr th {\n",
       "        vertical-align: top;\n",
       "    }\n",
       "\n",
       "    .dataframe thead th {\n",
       "        text-align: right;\n",
       "    }\n",
       "</style>\n",
       "<table border=\"1\" class=\"dataframe\">\n",
       "  <thead>\n",
       "    <tr style=\"text-align: right;\">\n",
       "      <th></th>\n",
       "      <th>ct_weapon_mp9</th>\n",
       "      <th>ct_weapon_cz75auto</th>\n",
       "      <th>ct_weapon_p250</th>\n",
       "      <th>ct_weapon_aug</th>\n",
       "      <th>ct_weapon_sg553</th>\n",
       "      <th>ct_weapon_ak47</th>\n",
       "      <th>t_weapon_deagle</th>\n",
       "      <th>ct_grenade_incendiarygrenade</th>\n",
       "      <th>ct_weapon_awp</th>\n",
       "      <th>bomb_planted</th>\n",
       "      <th>t_weapon_p250</th>\n",
       "      <th>ct_weapon_deagle</th>\n",
       "      <th>ct_grenade_smokegrenade</th>\n",
       "      <th>ct_weapon_p2000</th>\n",
       "      <th>t_grenade_hegrenade</th>\n",
       "      <th>t_grenade_smokegrenade</th>\n",
       "      <th>t_grenade_molotovgrenade</th>\n",
       "      <th>ct_grenade_hegrenade</th>\n",
       "      <th>ct_grenade_flashbang</th>\n",
       "      <th>t_weapon_sg553</th>\n",
       "      <th>t_grenade_flashbang</th>\n",
       "      <th>t_weapon_ak47</th>\n",
       "      <th>ct_weapon_m4a4</th>\n",
       "      <th>ct_helmets</th>\n",
       "      <th>t_players_alive</th>\n",
       "      <th>ct_defuse_kits</th>\n",
       "      <th>ct_weapon_usps</th>\n",
       "      <th>t_weapon_glock</th>\n",
       "      <th>ct_health</th>\n",
       "      <th>t_helmets</th>\n",
       "      <th>map</th>\n",
       "      <th>t_health</th>\n",
       "      <th>t_score</th>\n",
       "      <th>ct_score</th>\n",
       "      <th>time_left</th>\n",
       "      <th>ct_money</th>\n",
       "      <th>t_money</th>\n",
       "      <th>t_armor</th>\n",
       "      <th>ct_armor</th>\n",
       "    </tr>\n",
       "  </thead>\n",
       "  <tbody>\n",
       "    <tr>\n",
       "      <th>0</th>\n",
       "      <td>0.0</td>\n",
       "      <td>0.0</td>\n",
       "      <td>0.0</td>\n",
       "      <td>0.0</td>\n",
       "      <td>0.0</td>\n",
       "      <td>0.0</td>\n",
       "      <td>0.0</td>\n",
       "      <td>0.0</td>\n",
       "      <td>0.0</td>\n",
       "      <td>0.0</td>\n",
       "      <td>0.0</td>\n",
       "      <td>0.0</td>\n",
       "      <td>-0.333333</td>\n",
       "      <td>1.0</td>\n",
       "      <td>0.0</td>\n",
       "      <td>-0.333333</td>\n",
       "      <td>-0.5</td>\n",
       "      <td>0.0</td>\n",
       "      <td>-0.333333</td>\n",
       "      <td>0.0</td>\n",
       "      <td>-0.333333</td>\n",
       "      <td>-0.5</td>\n",
       "      <td>-0.5</td>\n",
       "      <td>-0.5</td>\n",
       "      <td>0.0</td>\n",
       "      <td>-0.333333</td>\n",
       "      <td>0.333333</td>\n",
       "      <td>0.333333</td>\n",
       "      <td>0.000000</td>\n",
       "      <td>-0.6</td>\n",
       "      <td>-0.666667</td>\n",
       "      <td>0.000000</td>\n",
       "      <td>-0.857143</td>\n",
       "      <td>-0.857143</td>\n",
       "      <td>0.715105</td>\n",
       "      <td>-0.112782</td>\n",
       "      <td>-0.191489</td>\n",
       "      <td>-1.136054</td>\n",
       "      <td>-1.291096</td>\n",
       "    </tr>\n",
       "    <tr>\n",
       "      <th>1</th>\n",
       "      <td>0.0</td>\n",
       "      <td>0.0</td>\n",
       "      <td>0.0</td>\n",
       "      <td>0.0</td>\n",
       "      <td>0.0</td>\n",
       "      <td>0.0</td>\n",
       "      <td>0.0</td>\n",
       "      <td>0.0</td>\n",
       "      <td>0.0</td>\n",
       "      <td>0.0</td>\n",
       "      <td>0.0</td>\n",
       "      <td>0.0</td>\n",
       "      <td>-0.333333</td>\n",
       "      <td>1.0</td>\n",
       "      <td>0.0</td>\n",
       "      <td>0.333333</td>\n",
       "      <td>-0.5</td>\n",
       "      <td>0.0</td>\n",
       "      <td>-0.333333</td>\n",
       "      <td>0.0</td>\n",
       "      <td>-0.333333</td>\n",
       "      <td>-0.5</td>\n",
       "      <td>-0.5</td>\n",
       "      <td>-0.5</td>\n",
       "      <td>0.0</td>\n",
       "      <td>0.000000</td>\n",
       "      <td>0.333333</td>\n",
       "      <td>0.333333</td>\n",
       "      <td>0.000000</td>\n",
       "      <td>-0.6</td>\n",
       "      <td>-0.666667</td>\n",
       "      <td>0.000000</td>\n",
       "      <td>-0.857143</td>\n",
       "      <td>-0.857143</td>\n",
       "      <td>0.545726</td>\n",
       "      <td>-0.368421</td>\n",
       "      <td>-0.395137</td>\n",
       "      <td>-0.115646</td>\n",
       "      <td>0.078767</td>\n",
       "    </tr>\n",
       "    <tr>\n",
       "      <th>2</th>\n",
       "      <td>0.0</td>\n",
       "      <td>0.0</td>\n",
       "      <td>0.0</td>\n",
       "      <td>0.0</td>\n",
       "      <td>0.0</td>\n",
       "      <td>0.0</td>\n",
       "      <td>0.0</td>\n",
       "      <td>0.0</td>\n",
       "      <td>0.0</td>\n",
       "      <td>0.0</td>\n",
       "      <td>0.0</td>\n",
       "      <td>0.0</td>\n",
       "      <td>-0.333333</td>\n",
       "      <td>0.0</td>\n",
       "      <td>0.0</td>\n",
       "      <td>0.333333</td>\n",
       "      <td>-0.5</td>\n",
       "      <td>0.0</td>\n",
       "      <td>-0.333333</td>\n",
       "      <td>0.0</td>\n",
       "      <td>-0.333333</td>\n",
       "      <td>-0.5</td>\n",
       "      <td>-0.5</td>\n",
       "      <td>-0.5</td>\n",
       "      <td>-1.0</td>\n",
       "      <td>0.000000</td>\n",
       "      <td>0.333333</td>\n",
       "      <td>0.000000</td>\n",
       "      <td>-0.726667</td>\n",
       "      <td>-0.6</td>\n",
       "      <td>-0.666667</td>\n",
       "      <td>-0.561798</td>\n",
       "      <td>-0.857143</td>\n",
       "      <td>-0.857143</td>\n",
       "      <td>0.010000</td>\n",
       "      <td>-0.357143</td>\n",
       "      <td>-0.404255</td>\n",
       "      <td>-0.455782</td>\n",
       "      <td>-0.284247</td>\n",
       "    </tr>\n",
       "    <tr>\n",
       "      <th>3</th>\n",
       "      <td>0.0</td>\n",
       "      <td>0.0</td>\n",
       "      <td>0.0</td>\n",
       "      <td>0.0</td>\n",
       "      <td>0.0</td>\n",
       "      <td>0.0</td>\n",
       "      <td>0.0</td>\n",
       "      <td>0.0</td>\n",
       "      <td>0.0</td>\n",
       "      <td>0.0</td>\n",
       "      <td>0.0</td>\n",
       "      <td>0.0</td>\n",
       "      <td>-0.333333</td>\n",
       "      <td>0.0</td>\n",
       "      <td>0.0</td>\n",
       "      <td>-0.333333</td>\n",
       "      <td>-0.5</td>\n",
       "      <td>0.0</td>\n",
       "      <td>-0.333333</td>\n",
       "      <td>0.0</td>\n",
       "      <td>-0.333333</td>\n",
       "      <td>-0.5</td>\n",
       "      <td>-0.5</td>\n",
       "      <td>-0.5</td>\n",
       "      <td>-1.0</td>\n",
       "      <td>0.000000</td>\n",
       "      <td>0.333333</td>\n",
       "      <td>-0.333333</td>\n",
       "      <td>-0.726667</td>\n",
       "      <td>-0.6</td>\n",
       "      <td>-0.666667</td>\n",
       "      <td>-0.561798</td>\n",
       "      <td>-0.857143</td>\n",
       "      <td>-0.857143</td>\n",
       "      <td>-0.168575</td>\n",
       "      <td>-0.357143</td>\n",
       "      <td>-0.404255</td>\n",
       "      <td>-0.455782</td>\n",
       "      <td>-0.284247</td>\n",
       "    </tr>\n",
       "    <tr>\n",
       "      <th>4</th>\n",
       "      <td>0.0</td>\n",
       "      <td>0.0</td>\n",
       "      <td>0.0</td>\n",
       "      <td>0.0</td>\n",
       "      <td>0.0</td>\n",
       "      <td>0.0</td>\n",
       "      <td>0.0</td>\n",
       "      <td>0.0</td>\n",
       "      <td>0.0</td>\n",
       "      <td>0.0</td>\n",
       "      <td>0.0</td>\n",
       "      <td>0.0</td>\n",
       "      <td>-0.333333</td>\n",
       "      <td>1.0</td>\n",
       "      <td>0.0</td>\n",
       "      <td>-0.333333</td>\n",
       "      <td>-0.5</td>\n",
       "      <td>0.0</td>\n",
       "      <td>-0.333333</td>\n",
       "      <td>0.0</td>\n",
       "      <td>-0.333333</td>\n",
       "      <td>-0.5</td>\n",
       "      <td>-0.5</td>\n",
       "      <td>-0.5</td>\n",
       "      <td>0.0</td>\n",
       "      <td>0.000000</td>\n",
       "      <td>0.333333</td>\n",
       "      <td>0.333333</td>\n",
       "      <td>0.000000</td>\n",
       "      <td>-0.6</td>\n",
       "      <td>-0.666667</td>\n",
       "      <td>0.000000</td>\n",
       "      <td>-0.857143</td>\n",
       "      <td>-0.714286</td>\n",
       "      <td>0.714837</td>\n",
       "      <td>0.966165</td>\n",
       "      <td>0.218845</td>\n",
       "      <td>-1.136054</td>\n",
       "      <td>-0.633562</td>\n",
       "    </tr>\n",
       "  </tbody>\n",
       "</table>\n",
       "</div>"
      ],
      "text/plain": [
       "   ct_weapon_mp9  ct_weapon_cz75auto  ct_weapon_p250  ct_weapon_aug  \\\n",
       "0            0.0                 0.0             0.0            0.0   \n",
       "1            0.0                 0.0             0.0            0.0   \n",
       "2            0.0                 0.0             0.0            0.0   \n",
       "3            0.0                 0.0             0.0            0.0   \n",
       "4            0.0                 0.0             0.0            0.0   \n",
       "\n",
       "   ct_weapon_sg553  ct_weapon_ak47  t_weapon_deagle  \\\n",
       "0              0.0             0.0              0.0   \n",
       "1              0.0             0.0              0.0   \n",
       "2              0.0             0.0              0.0   \n",
       "3              0.0             0.0              0.0   \n",
       "4              0.0             0.0              0.0   \n",
       "\n",
       "   ct_grenade_incendiarygrenade  ct_weapon_awp  bomb_planted  t_weapon_p250  \\\n",
       "0                           0.0            0.0           0.0            0.0   \n",
       "1                           0.0            0.0           0.0            0.0   \n",
       "2                           0.0            0.0           0.0            0.0   \n",
       "3                           0.0            0.0           0.0            0.0   \n",
       "4                           0.0            0.0           0.0            0.0   \n",
       "\n",
       "   ct_weapon_deagle  ct_grenade_smokegrenade  ct_weapon_p2000  \\\n",
       "0               0.0                -0.333333              1.0   \n",
       "1               0.0                -0.333333              1.0   \n",
       "2               0.0                -0.333333              0.0   \n",
       "3               0.0                -0.333333              0.0   \n",
       "4               0.0                -0.333333              1.0   \n",
       "\n",
       "   t_grenade_hegrenade  t_grenade_smokegrenade  t_grenade_molotovgrenade  \\\n",
       "0                  0.0               -0.333333                      -0.5   \n",
       "1                  0.0                0.333333                      -0.5   \n",
       "2                  0.0                0.333333                      -0.5   \n",
       "3                  0.0               -0.333333                      -0.5   \n",
       "4                  0.0               -0.333333                      -0.5   \n",
       "\n",
       "   ct_grenade_hegrenade  ct_grenade_flashbang  t_weapon_sg553  \\\n",
       "0                   0.0             -0.333333             0.0   \n",
       "1                   0.0             -0.333333             0.0   \n",
       "2                   0.0             -0.333333             0.0   \n",
       "3                   0.0             -0.333333             0.0   \n",
       "4                   0.0             -0.333333             0.0   \n",
       "\n",
       "   t_grenade_flashbang  t_weapon_ak47  ct_weapon_m4a4  ct_helmets  \\\n",
       "0            -0.333333           -0.5            -0.5        -0.5   \n",
       "1            -0.333333           -0.5            -0.5        -0.5   \n",
       "2            -0.333333           -0.5            -0.5        -0.5   \n",
       "3            -0.333333           -0.5            -0.5        -0.5   \n",
       "4            -0.333333           -0.5            -0.5        -0.5   \n",
       "\n",
       "   t_players_alive  ct_defuse_kits  ct_weapon_usps  t_weapon_glock  ct_health  \\\n",
       "0              0.0       -0.333333        0.333333        0.333333   0.000000   \n",
       "1              0.0        0.000000        0.333333        0.333333   0.000000   \n",
       "2             -1.0        0.000000        0.333333        0.000000  -0.726667   \n",
       "3             -1.0        0.000000        0.333333       -0.333333  -0.726667   \n",
       "4              0.0        0.000000        0.333333        0.333333   0.000000   \n",
       "\n",
       "   t_helmets       map  t_health   t_score  ct_score  time_left  ct_money  \\\n",
       "0       -0.6 -0.666667  0.000000 -0.857143 -0.857143   0.715105 -0.112782   \n",
       "1       -0.6 -0.666667  0.000000 -0.857143 -0.857143   0.545726 -0.368421   \n",
       "2       -0.6 -0.666667 -0.561798 -0.857143 -0.857143   0.010000 -0.357143   \n",
       "3       -0.6 -0.666667 -0.561798 -0.857143 -0.857143  -0.168575 -0.357143   \n",
       "4       -0.6 -0.666667  0.000000 -0.857143 -0.714286   0.714837  0.966165   \n",
       "\n",
       "    t_money   t_armor  ct_armor  \n",
       "0 -0.191489 -1.136054 -1.291096  \n",
       "1 -0.395137 -0.115646  0.078767  \n",
       "2 -0.404255 -0.455782 -0.284247  \n",
       "3 -0.404255 -0.455782 -0.284247  \n",
       "4  0.218845 -1.136054 -0.633562  "
      ]
     },
     "execution_count": 22,
     "metadata": {},
     "output_type": "execute_result"
    }
   ],
   "source": [
    "x.head()"
   ]
  },
  {
   "cell_type": "markdown",
   "id": "bb278ee5",
   "metadata": {
    "pycharm": {
     "name": "#%% md\n"
    }
   },
   "source": [
    "Mając już przetworzone dane, możemy wydzielić z nich zbiór treningowy oraz testowy."
   ]
  },
  {
   "cell_type": "code",
   "execution_count": 23,
   "id": "a4ca6516",
   "metadata": {
    "pycharm": {
     "name": "#%%\n"
    }
   },
   "outputs": [],
   "source": [
    "x_train, x_test, y_train, y_test = train_test_split(x, y, stratify = y, test_size = 0.1, random_state = 0)"
   ]
  },
  {
   "cell_type": "code",
   "execution_count": 24,
   "id": "b5ae8da4",
   "metadata": {
    "pycharm": {
     "name": "#%%\n"
    }
   },
   "outputs": [
    {
     "data": {
      "text/plain": [
       "(110169, 39)"
      ]
     },
     "execution_count": 24,
     "metadata": {},
     "output_type": "execute_result"
    }
   ],
   "source": [
    "x_train.shape"
   ]
  },
  {
   "cell_type": "code",
   "execution_count": 25,
   "id": "f71142d9",
   "metadata": {
    "pycharm": {
     "name": "#%%\n"
    }
   },
   "outputs": [
    {
     "data": {
      "text/plain": [
       "(12241, 39)"
      ]
     },
     "execution_count": 25,
     "metadata": {},
     "output_type": "execute_result"
    }
   ],
   "source": [
    "x_test.shape"
   ]
  },
  {
   "cell_type": "markdown",
   "id": "fb23ce50",
   "metadata": {
    "pycharm": {
     "name": "#%% md\n"
    }
   },
   "source": [
    "Jak widać na podstawie powyższych wywołań, mamy 110169 rekordów w zbiorze treningowym oraz 12241 w zbiorze testowym. W tym momencie możemy rozpocząć inicjalizacje modelu."
   ]
  },
  {
   "cell_type": "markdown",
   "id": "d86bf109",
   "metadata": {
    "pycharm": {
     "name": "#%% md\n"
    }
   },
   "source": [
    "### Model MLP"
   ]
  },
  {
   "cell_type": "markdown",
   "id": "11466d5e",
   "metadata": {
    "pycharm": {
     "name": "#%% md\n"
    }
   },
   "source": [
    "W celu inicjalizacji modelu zostanie wykorzystany klasyfikator MLP, zaimplementowany w bibliotece *scikit-learn* jako *MLPClassifier*.\n",
    "\n",
    "*MLPClassifier* określa wielowarstwowy perceptron. W przeciwieństwie do innych algorytmów klasyfikacji, takich jak klasyfikator wektorów wspierających lub naiwny klasyfikator Bayesa, *MLPClassifier* przy wykonaniu zadania klasyfikacji opiera się na podstawowej sieci neuronowej.\n",
    "\n",
    "Istotne cechy wielowarstwowego perceptronu MLP w bibliotece *scikit-learn*:\n",
    "- w warstwie wyjściowej nie ma funkcji aktywacji,\n",
    "- w przypadku scenariuszy regresji błąd kwadratowy jest funkcją straty, a entropia krzyżowa jest funkcją straty klasyfikacji,\n",
    "- może pracować z regresją pojedynczych, jak i wielu wartości docelowych,\n",
    "- w przeciwieństwie do innych popularnych pakietów, implementacja MLP w *scikit* nie obsługuje GPU.\n",
    "- nie jest możliwe dostrojenie parametrów, takich jak różne funkcje aktywacji, inicjatory wagi itp. dla każdej warstwy."
   ]
  },
  {
   "cell_type": "code",
   "execution_count": 26,
   "id": "692e7420",
   "metadata": {
    "pycharm": {
     "name": "#%%\n"
    }
   },
   "outputs": [],
   "source": [
    "nn_clf = MLPClassifier(verbose = True, max_iter=10)"
   ]
  },
  {
   "cell_type": "markdown",
   "id": "8cde543e",
   "metadata": {
    "pycharm": {
     "name": "#%% md\n"
    }
   },
   "source": [
    "Opcja *verbose=True* powoduje, że na standardowe wyjście będą drukowane wiadomości o postępach w kolejnych iteracjach."
   ]
  },
  {
   "cell_type": "markdown",
   "id": "d48e94b4",
   "metadata": {
    "pycharm": {
     "name": "#%% md\n"
    }
   },
   "source": [
    "Następnie przechodzimy do dopasowania modelu do macierzy danych *x_train* i wyniku *y_train*."
   ]
  },
  {
   "cell_type": "code",
   "execution_count": 27,
   "id": "c2457de4",
   "metadata": {
    "pycharm": {
     "name": "#%%\n"
    }
   },
   "outputs": [
    {
     "name": "stdout",
     "output_type": "stream",
     "text": [
      "Iteration 1, loss = 0.47889110\n",
      "Iteration 2, loss = 0.45537033\n",
      "Iteration 3, loss = 0.44886212\n",
      "Iteration 4, loss = 0.44483157\n",
      "Iteration 5, loss = 0.44162950\n",
      "Iteration 6, loss = 0.43893910\n",
      "Iteration 7, loss = 0.43672402\n",
      "Iteration 8, loss = 0.43493009\n",
      "Iteration 9, loss = 0.43329613\n",
      "Iteration 10, loss = 0.43167938\n"
     ]
    },
    {
     "name": "stderr",
     "output_type": "stream",
     "text": [
      "/home/kuba/.cache/pypoetry/virtualenvs/csgo-round-prediction-7BBOtmkC-py3.10/lib/python3.10/site-packages/sklearn/neural_network/_multilayer_perceptron.py:692: ConvergenceWarning: Stochastic Optimizer: Maximum iterations (10) reached and the optimization hasn't converged yet.\n",
      "  warnings.warn(\n"
     ]
    },
    {
     "data": {
      "text/plain": [
       "MLPClassifier(max_iter=10, verbose=True)"
      ]
     },
     "execution_count": 27,
     "metadata": {},
     "output_type": "execute_result"
    }
   ],
   "source": [
    "nn_clf.fit(x_train, y_train)"
   ]
  },
  {
   "cell_type": "markdown",
   "id": "f6881d62",
   "metadata": {
    "pycharm": {
     "name": "#%% md\n"
    }
   },
   "source": [
    "W tym momencie możemy sprawdzić średnią trafność modelu na rozważanych danych testowych."
   ]
  },
  {
   "cell_type": "code",
   "execution_count": 28,
   "id": "b5429527",
   "metadata": {
    "pycharm": {
     "name": "#%%\n"
    }
   },
   "outputs": [
    {
     "name": "stdout",
     "output_type": "stream",
     "text": [
      "Model sieci neuronowej: 0.7692998937995262\n"
     ]
    }
   ],
   "source": [
    "print(f'Model sieci neuronowej: {nn_clf.score(x_test, y_test)}')"
   ]
  },
  {
   "cell_type": "markdown",
   "id": "1ee9cf36",
   "metadata": {
    "pycharm": {
     "name": "#%% md\n"
    }
   },
   "source": [
    "## Regresja logistyczna"
   ]
  },
  {
   "cell_type": "markdown",
   "id": "b8b5d3a5",
   "metadata": {
    "pycharm": {
     "name": "#%% md\n"
    }
   },
   "source": [
    "Regresja logistyczna to algorytm nadzorowanego uczenia maszynowego używany do problemów z klasyfikacją binarną. Najlepszym sposobem myślenia o regresji logistycznej jest to, że jest to regresja liniowa, ale dla problemów z klasyfikacją. Podstawowa różnica między regresją liniową a regresją logistyczną polega na tym, że zakres regresji logistycznej jest ograniczony od 0 do 1. Ponadto, w przeciwieństwie do regresji liniowej, regresja logistyczna nie wymaga liniowej zależności między zmiennymi wejściowymi i wyjściowymi."
   ]
  },
  {
   "cell_type": "code",
   "execution_count": 29,
   "id": "3707e2a2",
   "metadata": {
    "pycharm": {
     "name": "#%%\n"
    }
   },
   "outputs": [
    {
     "name": "stderr",
     "output_type": "stream",
     "text": [
      "[Parallel(n_jobs=-1)]: Using backend LokyBackend with 8 concurrent workers.\n"
     ]
    },
    {
     "name": "stdout",
     "output_type": "stream",
     "text": [
      "RUNNING THE L-BFGS-B CODE\n",
      "\n",
      "           * * *\n",
      "\n",
      "Machine precision = 2.220D-16\n",
      " N =           40     M =           10\n",
      "\n",
      "At X0         0 variables are exactly at the bounds\n",
      "\n",
      "At iterate    0    f=  7.63633D+04    |proj g|=  1.11915D+04\n"
     ]
    },
    {
     "name": "stderr",
     "output_type": "stream",
     "text": [
      " This problem is unconstrained.\n"
     ]
    },
    {
     "name": "stdout",
     "output_type": "stream",
     "text": [
      "\n",
      "At iterate   50    f=  5.26632D+04    |proj g|=  6.81933D+00\n",
      "\n",
      "           * * *\n",
      "\n",
      "Tit   = total number of iterations\n",
      "Tnf   = total number of function evaluations\n",
      "Tnint = total number of segments explored during Cauchy searches\n",
      "Skip  = number of BFGS updates skipped\n",
      "Nact  = number of active bounds at final generalized Cauchy point\n",
      "Projg = norm of the final projected gradient\n",
      "F     = final function value\n",
      "\n",
      "           * * *\n",
      "\n",
      "   N    Tit     Tnf  Tnint  Skip  Nact     Projg        F\n",
      "   40     71     77      1     0     0   1.085D+00   5.266D+04\n",
      "  F =   52663.095703317798     \n",
      "\n",
      "CONVERGENCE: REL_REDUCTION_OF_F_<=_FACTR*EPSMCH             \n"
     ]
    },
    {
     "name": "stderr",
     "output_type": "stream",
     "text": [
      "[Parallel(n_jobs=-1)]: Done   1 out of   1 | elapsed:    9.1s finished\n"
     ]
    },
    {
     "data": {
      "text/plain": [
       "LogisticRegression(n_jobs=-1, verbose=True)"
      ]
     },
     "execution_count": 29,
     "metadata": {},
     "output_type": "execute_result"
    }
   ],
   "source": [
    "log_model = LogisticRegression(verbose=True, n_jobs=-1)\n",
    "log_model.fit(x_train, y_train)"
   ]
  },
  {
   "cell_type": "markdown",
   "id": "c372eaf9",
   "metadata": {
    "pycharm": {
     "name": "#%% md\n"
    }
   },
   "source": [
    "Po wytrenowaniu modelu możemy sprawdzić jego skuteczność na danych testowych:"
   ]
  },
  {
   "cell_type": "code",
   "execution_count": 30,
   "id": "1073c23f",
   "metadata": {
    "pycharm": {
     "name": "#%%\n"
    }
   },
   "outputs": [
    {
     "name": "stdout",
     "output_type": "stream",
     "text": [
      "Model regresji logistycznej: 0.7541867494485744\n"
     ]
    }
   ],
   "source": [
    "print(f\"Model regresji logistycznej: {log_model.score(x_test, y_test)}\")"
   ]
  },
  {
   "cell_type": "markdown",
   "id": "4083ba19",
   "metadata": {
    "pycharm": {
     "name": "#%% md\n"
    }
   },
   "source": [
    "Regresja logistyczna okazała się trochę gorsza od modelu MLP, jednak czas trenowania modelu jest znacząco niższy."
   ]
  },
  {
   "cell_type": "markdown",
   "id": "ebd241d3",
   "metadata": {
    "pycharm": {
     "name": "#%% md\n"
    }
   },
   "source": [
    "## Optymalizacja hiperparametrów"
   ]
  },
  {
   "cell_type": "code",
   "execution_count": null,
   "outputs": [],
   "source": [
    "import optuna\n",
    "import sklearn.datasets\n",
    "\n",
    "import sklearn.ensemble\n",
    "import sklearn.model_selection\n",
    "import sklearn.svm\n",
    "\n",
    "def objective(trial):\n",
    "    #iris = sklearn.datasets.load_iris()\n",
    "    #x, y = iris.data, iris.target\n",
    "\n",
    "    #classifier_name = trial.suggest_categorical(\"classifier\", [\"SVC\", \"RandomForest\"])\n",
    "    activation = trial.suggest_categorical(\"activation\", [\"identity\", \"logistic\", \"tanh\", \"relu\"])\n",
    "    solver = trial.suggest_categorical(\"solver\", [\"lbfgs\", \"sgd\", \"adam\"])\n",
    "    learning_rate_init = trial.suggest_float(\"lri\", 1e-5, 1e-2, log=True)\n",
    "    learning_rate = \"constant\"\n",
    "    if solver == \"sgd\":\n",
    "        learning_rate = trial.suggest_categorical(\"learning_rate\", [\"constant\", \"invscaling\", \"adaptive\"])\n",
    "    nn_clf = MLPClassifier(activation=activation, solver=solver, max_iter=200, learning_rate=learning_rate,\n",
    "                          learning_rate_init=learning_rate_init)\n",
    "    nn_clf.fit(x_train, y_train)\n",
    "    return nn_clf.score(x_test, y_test)\n",
    "\n",
    "\n",
    "# 3. Create a study object and optimize the objective function.\n",
    "study = optuna.create_study(direction='maximize')\n",
    "study.optimize(objective, n_trials=100)"
   ],
   "metadata": {
    "collapsed": false,
    "pycharm": {
     "name": "#%%\n"
    }
   }
  },
  {
   "cell_type": "code",
   "execution_count": null,
   "outputs": [],
   "source": [
    "import optuna\n",
    "import sklearn.datasets\n",
    "\n",
    "import sklearn.ensemble\n",
    "import sklearn.model_selection\n",
    "import sklearn.svm\n",
    "\n",
    "def objective(trial):\n",
    "    #iris = sklearn.datasets.load_iris()\n",
    "    #x, y = iris.data, iris.target\n",
    "\n",
    "    #classifier_name = trial.suggest_categorical(\"classifier\", [\"SVC\", \"RandomForest\"])\n",
    "    multi_class = trial.suggest_categorical(\"multiclass\", [\"auto\", \"ovr\", \"multinomial\"])\n",
    "    solver = trial.suggest_categorical(\"solver\", [\"newton-cg\", \"lbfgs\", \"liblinear\", \"sag\", \"saga\"])\n",
    "    if solver == \"newton-cg\":\n",
    "        penalty = trial.suggest_categorical(\"ncg_pen\", [\"l2\", \"none\"])\n",
    "    elif solver == \"lbfgs\":\n",
    "        penalty = trial.suggest_categorical(\"lbfgs_pen\", [\"l2\", \"none\"])\n",
    "    else if solver == \"liblinear\":\n",
    "        penalty = trial.suggest_categorical(\"ll_pen\", [\"l1\", \"l2\"])\n",
    "    else if solver == \"sag\":\n",
    "        penalty = trial.suggest_categorical(\"sag_pen\", [\"l2\", \"none\"])\n",
    "    else if solver == \"saga\":\n",
    "        penalty = trial.suggest_categorical(\"saga_pen\", [\"elasticnet\", \"l1\", \"l2\", \"none\"])\n",
    "    \n",
    "    nn_clf = LogisticRegression(solver=solver, max_iter=20, penalty=penalty, multi_class=multi_class)\n",
    "    nn_clf.fit(x_train, y_train)\n",
    "    return nn_clf.score(x_test, y_test)\n",
    "\n",
    "\n",
    "# 3. Create a study object and optimize the objective function.\n",
    "study = optuna.create_study(direction='maximize')\n",
    "study.optimize(objective, n_trials=100)"
   ],
   "metadata": {
    "collapsed": false,
    "pycharm": {
     "name": "#%%\n"
    }
   }
  },
  {
   "cell_type": "markdown",
   "id": "27a61236",
   "metadata": {
    "pycharm": {
     "name": "#%% md\n"
    }
   },
   "source": [
    "## Podział prac"
   ]
  },
  {
   "cell_type": "markdown",
   "id": "9aa480da",
   "metadata": {
    "pycharm": {
     "name": "#%% md\n"
    }
   },
   "source": [
    "1. ~~Wybór niezbędnych bibliotek - Jakub Michalak~~\n",
    "1. ~~Walidacja i wydzielenie danych treningowych - Damian Opoka~~\n",
    "1. ~~Analiza i przygotowanie danych - Damian Opoka~~\n",
    "1. ~~Definicja modelu - Adam Ryl~~\n",
    "1. Weryfikacja krzyżowa - Adam Ryl\n",
    "1. Dostosowanie hiperparametrów - Jakub Michalak\n",
    "1. Wygenerowanie wyników - Piotr Kryczka\n",
    "1. Analiza wyników - Piotr Kryczka"
   ]
  }
 ],
 "metadata": {
  "kernelspec": {
   "display_name": "Python 3 (ipykernel)",
   "language": "python",
   "name": "python3"
  },
  "language_info": {
   "codemirror_mode": {
    "name": "ipython",
    "version": 3
   },
   "file_extension": ".py",
   "mimetype": "text/x-python",
   "name": "python",
   "nbconvert_exporter": "python",
   "pygments_lexer": "ipython3",
   "version": "3.10.4"
  }
 },
 "nbformat": 4,
 "nbformat_minor": 5
}